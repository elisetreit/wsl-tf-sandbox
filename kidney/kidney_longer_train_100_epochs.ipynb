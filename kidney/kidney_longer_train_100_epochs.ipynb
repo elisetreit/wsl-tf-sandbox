{
 "cells": [
  {
   "cell_type": "markdown",
   "id": "69ed355d",
   "metadata": {},
   "source": [
    "## Convnet practice with kidney dataset"
   ]
  },
  {
   "cell_type": "markdown",
   "id": "0fc05f35",
   "metadata": {},
   "source": [
    "Changes from kidney_convnet - epochs number changing from 10 - 200"
   ]
  },
  {
   "cell_type": "code",
   "execution_count": 1,
   "id": "efb43467",
   "metadata": {},
   "outputs": [
    {
     "name": "stderr",
     "output_type": "stream",
     "text": [
      "2025-05-09 19:23:38.302490: I tensorflow/core/util/port.cc:153] oneDNN custom operations are on. You may see slightly different numerical results due to floating-point round-off errors from different computation orders. To turn them off, set the environment variable `TF_ENABLE_ONEDNN_OPTS=0`.\n",
      "2025-05-09 19:23:38.314177: E external/local_xla/xla/stream_executor/cuda/cuda_fft.cc:467] Unable to register cuFFT factory: Attempting to register factory for plugin cuFFT when one has already been registered\n",
      "WARNING: All log messages before absl::InitializeLog() is called are written to STDERR\n",
      "E0000 00:00:1746843818.324639  233016 cuda_dnn.cc:8579] Unable to register cuDNN factory: Attempting to register factory for plugin cuDNN when one has already been registered\n",
      "E0000 00:00:1746843818.327995  233016 cuda_blas.cc:1407] Unable to register cuBLAS factory: Attempting to register factory for plugin cuBLAS when one has already been registered\n",
      "W0000 00:00:1746843818.335468  233016 computation_placer.cc:177] computation placer already registered. Please check linkage and avoid linking the same target more than once.\n",
      "W0000 00:00:1746843818.335491  233016 computation_placer.cc:177] computation placer already registered. Please check linkage and avoid linking the same target more than once.\n",
      "W0000 00:00:1746843818.335492  233016 computation_placer.cc:177] computation placer already registered. Please check linkage and avoid linking the same target more than once.\n",
      "W0000 00:00:1746843818.335492  233016 computation_placer.cc:177] computation placer already registered. Please check linkage and avoid linking the same target more than once.\n",
      "2025-05-09 19:23:38.338615: I tensorflow/core/platform/cpu_feature_guard.cc:210] This TensorFlow binary is optimized to use available CPU instructions in performance-critical operations.\n",
      "To enable the following instructions: AVX2 AVX_VNNI FMA, in other operations, rebuild TensorFlow with the appropriate compiler flags.\n"
     ]
    }
   ],
   "source": [
    "# import cell\n",
    "import os, warnings\n",
    "import matplotlib.pyplot as plt\n",
    "from matplotlib import gridspec\n",
    "import pandas as pd\n",
    "import numpy as np\n",
    "import tensorflow as tf\n",
    "from tensorflow.keras.preprocessing import image_dataset_from_directory\n",
    "from tensorflow import keras\n",
    "from tensorflow.keras import layers\n",
    "from tensorflow.keras import metrics\n",
    "import json\n"
   ]
  },
  {
   "cell_type": "markdown",
   "id": "1b71648b",
   "metadata": {},
   "source": [
    "### Data Preparation"
   ]
  },
  {
   "cell_type": "code",
   "execution_count": 2,
   "id": "ecca51f5",
   "metadata": {},
   "outputs": [],
   "source": [
    "# seed setting and defaults for being good and clean\n",
    "def set_seed(seed=31415):\n",
    "    np.random.seed(seed)\n",
    "    tf.random.set_seed(seed)\n",
    "    os.environ['PYTHONHASHSEED'] = str(seed)\n",
    "    os.environ['TF_DETERMINISTIC_OPS'] = '1'\n",
    "set_seed()\n",
    "\n",
    "# Set Matplotlib defaults\n",
    "plt.rc('figure', autolayout=True)\n",
    "plt.rc('axes', labelweight='bold', labelsize='large',\n",
    "       titleweight='bold', titlesize=18, titlepad=10)\n",
    "plt.rc('image', cmap='magma')\n",
    "warnings.filterwarnings(\"ignore\") # to clean up output cells"
   ]
  },
  {
   "cell_type": "code",
   "execution_count": 3,
   "id": "087e1780",
   "metadata": {},
   "outputs": [],
   "source": [
    "# setting up some ids for saving\n",
    "model_id = \"baseline_cnn_200_epochs\"  # Or whatever naming scheme you want\n",
    "model_save_path = f\"models/{model_id}.weights.h5\""
   ]
  },
  {
   "cell_type": "code",
   "execution_count": 4,
   "id": "8de5a80c",
   "metadata": {},
   "outputs": [
    {
     "name": "stdout",
     "output_type": "stream",
     "text": [
      "Found 12446 files belonging to 4 classes.\n",
      "Using 9957 files for training.\n",
      "Using 2489 files for validation.\n"
     ]
    },
    {
     "name": "stderr",
     "output_type": "stream",
     "text": [
      "I0000 00:00:1746843820.939766  233016 gpu_device.cc:2019] Created device /job:localhost/replica:0/task:0/device:GPU:0 with 9558 MB memory:  -> device: 0, name: NVIDIA GeForce RTX 4070, pci bus id: 0000:01:00.0, compute capability: 8.9\n"
     ]
    }
   ],
   "source": [
    "# split dataset into train, validate, test\n",
    "ds_train, ds_validate = image_dataset_from_directory(r'../input/kaggle/ct-kidney/CT-KIDNEY-DATASET-Normal-Cyst-Tumor-Stone/CT-KIDNEY-DATASET-Normal-Cyst-Tumor-Stone',\n",
    "                                  labels='inferred',\n",
    "                                  label_mode = 'categorical',\n",
    "                                  color_mode = 'grayscale',\n",
    "                                  image_size = (256, 256),\n",
    "                                  shuffle = True,\n",
    "                                  validation_split = 0.2,\n",
    "                                  subset = 'both',\n",
    "                                  seed = 314,\n",
    "                                  batch_size = 16)\n",
    "val_size = int(0.5 * tf.data.experimental.cardinality(ds_validate).numpy())\n",
    "\n",
    "ds_val = ds_validate.take(val_size)\n",
    "ds_test = ds_validate.skip(val_size)\n",
    "ds_val.class_names = ds_validate.class_names\n",
    "ds_test.class_names = ds_validate.class_names\n"
   ]
  },
  {
   "cell_type": "code",
   "execution_count": 5,
   "id": "33e6426a",
   "metadata": {},
   "outputs": [
    {
     "name": "stdout",
     "output_type": "stream",
     "text": [
      "Train class %:\n",
      "{'Cyst': np.float64(29.72), 'Normal': np.float64(41.05), 'Stone': np.float64(11.12), 'Tumor': np.float64(18.12)}\n"
     ]
    },
    {
     "name": "stderr",
     "output_type": "stream",
     "text": [
      "2025-05-09 19:23:42.449196: I tensorflow/core/framework/local_rendezvous.cc:407] Local rendezvous is aborting with status: OUT_OF_RANGE: End of sequence\n"
     ]
    }
   ],
   "source": [
    "def get_class_distribution(dataset, class_names):\n",
    "    label_counts = np.zeros(len(class_names), dtype=int)\n",
    "    total = 0\n",
    "    for _, labels in dataset:\n",
    "        indices = tf.argmax(labels, axis=1).numpy()\n",
    "        for i in indices:\n",
    "            label_counts[i] += 1\n",
    "            total += 1\n",
    "    percent_distribution = {class_names[i]: round(100 * count / total, 2) for i, count in enumerate(label_counts)}\n",
    "    return percent_distribution\n",
    "\n",
    "print(\"Train class %:\")\n",
    "print(get_class_distribution(ds_train, ds_train.class_names))"
   ]
  },
  {
   "cell_type": "markdown",
   "id": "cf266663",
   "metadata": {},
   "source": [
    "### Model Declaration and Compiling"
   ]
  },
  {
   "cell_type": "code",
   "execution_count": 6,
   "id": "00c7e660",
   "metadata": {},
   "outputs": [],
   "source": [
    "# Define augmentation layer\n",
    "data_augmentation = tf.keras.Sequential([\n",
    "    layers.RandomFlip(\"horizontal\"),\n",
    "    layers.RandomRotation(0.05),\n",
    "    layers.RandomZoom(0.1),\n",
    "    layers.RandomContrast(0.1),\n",
    "], name=\"augmentation_layer\")\n",
    "\n",
    "model = keras.Sequential([\n",
    "    layers.Input(shape=(256, 256, 1)),\n",
    "    data_augmentation,   \n",
    "    layers.Conv2D(filters=32, kernel_size=5, activation = 'relu', padding = 'same'),\n",
    "    layers.MaxPool2D(),\n",
    "    layers.Conv2D(filters = 64, kernel_size=3, activation = 'relu', padding = 'same'),\n",
    "    layers.MaxPool2D(),\n",
    "    layers.Conv2D(filters = 64, kernel_size = 3, activation = 'relu', padding = 'same'),\n",
    "    layers.MaxPool2D(),\n",
    "    # time for the head\n",
    "    layers.GlobalAveragePooling2D(),\n",
    "    layers.Dense(64, activation='relu'),\n",
    "    layers.Dropout(0.5),\n",
    "    layers.Dense(units=4, activation = 'softmax')\n",
    "])"
   ]
  },
  {
   "cell_type": "code",
   "execution_count": 7,
   "id": "87eec374",
   "metadata": {},
   "outputs": [
    {
     "data": {
      "text/html": [
       "<pre style=\"white-space:pre;overflow-x:auto;line-height:normal;font-family:Menlo,'DejaVu Sans Mono',consolas,'Courier New',monospace\"><span style=\"font-weight: bold\">Model: \"sequential\"</span>\n",
       "</pre>\n"
      ],
      "text/plain": [
       "\u001b[1mModel: \"sequential\"\u001b[0m\n"
      ]
     },
     "metadata": {},
     "output_type": "display_data"
    },
    {
     "data": {
      "text/html": [
       "<pre style=\"white-space:pre;overflow-x:auto;line-height:normal;font-family:Menlo,'DejaVu Sans Mono',consolas,'Courier New',monospace\">┏━━━━━━━━━━━━━━━━━━━━━━━━━━━━━━━━━┳━━━━━━━━━━━━━━━━━━━━━━━━┳━━━━━━━━━━━━━━━┓\n",
       "┃<span style=\"font-weight: bold\"> Layer (type)                    </span>┃<span style=\"font-weight: bold\"> Output Shape           </span>┃<span style=\"font-weight: bold\">       Param # </span>┃\n",
       "┡━━━━━━━━━━━━━━━━━━━━━━━━━━━━━━━━━╇━━━━━━━━━━━━━━━━━━━━━━━━╇━━━━━━━━━━━━━━━┩\n",
       "│ augmentation_layer (<span style=\"color: #0087ff; text-decoration-color: #0087ff\">Sequential</span>) │ (<span style=\"color: #00d7ff; text-decoration-color: #00d7ff\">None</span>, <span style=\"color: #00af00; text-decoration-color: #00af00\">256</span>, <span style=\"color: #00af00; text-decoration-color: #00af00\">256</span>, <span style=\"color: #00af00; text-decoration-color: #00af00\">1</span>)    │             <span style=\"color: #00af00; text-decoration-color: #00af00\">0</span> │\n",
       "├─────────────────────────────────┼────────────────────────┼───────────────┤\n",
       "│ conv2d (<span style=\"color: #0087ff; text-decoration-color: #0087ff\">Conv2D</span>)                 │ (<span style=\"color: #00d7ff; text-decoration-color: #00d7ff\">None</span>, <span style=\"color: #00af00; text-decoration-color: #00af00\">256</span>, <span style=\"color: #00af00; text-decoration-color: #00af00\">256</span>, <span style=\"color: #00af00; text-decoration-color: #00af00\">32</span>)   │           <span style=\"color: #00af00; text-decoration-color: #00af00\">832</span> │\n",
       "├─────────────────────────────────┼────────────────────────┼───────────────┤\n",
       "│ max_pooling2d (<span style=\"color: #0087ff; text-decoration-color: #0087ff\">MaxPooling2D</span>)    │ (<span style=\"color: #00d7ff; text-decoration-color: #00d7ff\">None</span>, <span style=\"color: #00af00; text-decoration-color: #00af00\">128</span>, <span style=\"color: #00af00; text-decoration-color: #00af00\">128</span>, <span style=\"color: #00af00; text-decoration-color: #00af00\">32</span>)   │             <span style=\"color: #00af00; text-decoration-color: #00af00\">0</span> │\n",
       "├─────────────────────────────────┼────────────────────────┼───────────────┤\n",
       "│ conv2d_1 (<span style=\"color: #0087ff; text-decoration-color: #0087ff\">Conv2D</span>)               │ (<span style=\"color: #00d7ff; text-decoration-color: #00d7ff\">None</span>, <span style=\"color: #00af00; text-decoration-color: #00af00\">128</span>, <span style=\"color: #00af00; text-decoration-color: #00af00\">128</span>, <span style=\"color: #00af00; text-decoration-color: #00af00\">64</span>)   │        <span style=\"color: #00af00; text-decoration-color: #00af00\">18,496</span> │\n",
       "├─────────────────────────────────┼────────────────────────┼───────────────┤\n",
       "│ max_pooling2d_1 (<span style=\"color: #0087ff; text-decoration-color: #0087ff\">MaxPooling2D</span>)  │ (<span style=\"color: #00d7ff; text-decoration-color: #00d7ff\">None</span>, <span style=\"color: #00af00; text-decoration-color: #00af00\">64</span>, <span style=\"color: #00af00; text-decoration-color: #00af00\">64</span>, <span style=\"color: #00af00; text-decoration-color: #00af00\">64</span>)     │             <span style=\"color: #00af00; text-decoration-color: #00af00\">0</span> │\n",
       "├─────────────────────────────────┼────────────────────────┼───────────────┤\n",
       "│ conv2d_2 (<span style=\"color: #0087ff; text-decoration-color: #0087ff\">Conv2D</span>)               │ (<span style=\"color: #00d7ff; text-decoration-color: #00d7ff\">None</span>, <span style=\"color: #00af00; text-decoration-color: #00af00\">64</span>, <span style=\"color: #00af00; text-decoration-color: #00af00\">64</span>, <span style=\"color: #00af00; text-decoration-color: #00af00\">64</span>)     │        <span style=\"color: #00af00; text-decoration-color: #00af00\">36,928</span> │\n",
       "├─────────────────────────────────┼────────────────────────┼───────────────┤\n",
       "│ max_pooling2d_2 (<span style=\"color: #0087ff; text-decoration-color: #0087ff\">MaxPooling2D</span>)  │ (<span style=\"color: #00d7ff; text-decoration-color: #00d7ff\">None</span>, <span style=\"color: #00af00; text-decoration-color: #00af00\">32</span>, <span style=\"color: #00af00; text-decoration-color: #00af00\">32</span>, <span style=\"color: #00af00; text-decoration-color: #00af00\">64</span>)     │             <span style=\"color: #00af00; text-decoration-color: #00af00\">0</span> │\n",
       "├─────────────────────────────────┼────────────────────────┼───────────────┤\n",
       "│ global_average_pooling2d        │ (<span style=\"color: #00d7ff; text-decoration-color: #00d7ff\">None</span>, <span style=\"color: #00af00; text-decoration-color: #00af00\">64</span>)             │             <span style=\"color: #00af00; text-decoration-color: #00af00\">0</span> │\n",
       "│ (<span style=\"color: #0087ff; text-decoration-color: #0087ff\">GlobalAveragePooling2D</span>)        │                        │               │\n",
       "├─────────────────────────────────┼────────────────────────┼───────────────┤\n",
       "│ dense (<span style=\"color: #0087ff; text-decoration-color: #0087ff\">Dense</span>)                   │ (<span style=\"color: #00d7ff; text-decoration-color: #00d7ff\">None</span>, <span style=\"color: #00af00; text-decoration-color: #00af00\">64</span>)             │         <span style=\"color: #00af00; text-decoration-color: #00af00\">4,160</span> │\n",
       "├─────────────────────────────────┼────────────────────────┼───────────────┤\n",
       "│ dropout (<span style=\"color: #0087ff; text-decoration-color: #0087ff\">Dropout</span>)               │ (<span style=\"color: #00d7ff; text-decoration-color: #00d7ff\">None</span>, <span style=\"color: #00af00; text-decoration-color: #00af00\">64</span>)             │             <span style=\"color: #00af00; text-decoration-color: #00af00\">0</span> │\n",
       "├─────────────────────────────────┼────────────────────────┼───────────────┤\n",
       "│ dense_1 (<span style=\"color: #0087ff; text-decoration-color: #0087ff\">Dense</span>)                 │ (<span style=\"color: #00d7ff; text-decoration-color: #00d7ff\">None</span>, <span style=\"color: #00af00; text-decoration-color: #00af00\">4</span>)              │           <span style=\"color: #00af00; text-decoration-color: #00af00\">260</span> │\n",
       "└─────────────────────────────────┴────────────────────────┴───────────────┘\n",
       "</pre>\n"
      ],
      "text/plain": [
       "┏━━━━━━━━━━━━━━━━━━━━━━━━━━━━━━━━━┳━━━━━━━━━━━━━━━━━━━━━━━━┳━━━━━━━━━━━━━━━┓\n",
       "┃\u001b[1m \u001b[0m\u001b[1mLayer (type)                   \u001b[0m\u001b[1m \u001b[0m┃\u001b[1m \u001b[0m\u001b[1mOutput Shape          \u001b[0m\u001b[1m \u001b[0m┃\u001b[1m \u001b[0m\u001b[1m      Param #\u001b[0m\u001b[1m \u001b[0m┃\n",
       "┡━━━━━━━━━━━━━━━━━━━━━━━━━━━━━━━━━╇━━━━━━━━━━━━━━━━━━━━━━━━╇━━━━━━━━━━━━━━━┩\n",
       "│ augmentation_layer (\u001b[38;5;33mSequential\u001b[0m) │ (\u001b[38;5;45mNone\u001b[0m, \u001b[38;5;34m256\u001b[0m, \u001b[38;5;34m256\u001b[0m, \u001b[38;5;34m1\u001b[0m)    │             \u001b[38;5;34m0\u001b[0m │\n",
       "├─────────────────────────────────┼────────────────────────┼───────────────┤\n",
       "│ conv2d (\u001b[38;5;33mConv2D\u001b[0m)                 │ (\u001b[38;5;45mNone\u001b[0m, \u001b[38;5;34m256\u001b[0m, \u001b[38;5;34m256\u001b[0m, \u001b[38;5;34m32\u001b[0m)   │           \u001b[38;5;34m832\u001b[0m │\n",
       "├─────────────────────────────────┼────────────────────────┼───────────────┤\n",
       "│ max_pooling2d (\u001b[38;5;33mMaxPooling2D\u001b[0m)    │ (\u001b[38;5;45mNone\u001b[0m, \u001b[38;5;34m128\u001b[0m, \u001b[38;5;34m128\u001b[0m, \u001b[38;5;34m32\u001b[0m)   │             \u001b[38;5;34m0\u001b[0m │\n",
       "├─────────────────────────────────┼────────────────────────┼───────────────┤\n",
       "│ conv2d_1 (\u001b[38;5;33mConv2D\u001b[0m)               │ (\u001b[38;5;45mNone\u001b[0m, \u001b[38;5;34m128\u001b[0m, \u001b[38;5;34m128\u001b[0m, \u001b[38;5;34m64\u001b[0m)   │        \u001b[38;5;34m18,496\u001b[0m │\n",
       "├─────────────────────────────────┼────────────────────────┼───────────────┤\n",
       "│ max_pooling2d_1 (\u001b[38;5;33mMaxPooling2D\u001b[0m)  │ (\u001b[38;5;45mNone\u001b[0m, \u001b[38;5;34m64\u001b[0m, \u001b[38;5;34m64\u001b[0m, \u001b[38;5;34m64\u001b[0m)     │             \u001b[38;5;34m0\u001b[0m │\n",
       "├─────────────────────────────────┼────────────────────────┼───────────────┤\n",
       "│ conv2d_2 (\u001b[38;5;33mConv2D\u001b[0m)               │ (\u001b[38;5;45mNone\u001b[0m, \u001b[38;5;34m64\u001b[0m, \u001b[38;5;34m64\u001b[0m, \u001b[38;5;34m64\u001b[0m)     │        \u001b[38;5;34m36,928\u001b[0m │\n",
       "├─────────────────────────────────┼────────────────────────┼───────────────┤\n",
       "│ max_pooling2d_2 (\u001b[38;5;33mMaxPooling2D\u001b[0m)  │ (\u001b[38;5;45mNone\u001b[0m, \u001b[38;5;34m32\u001b[0m, \u001b[38;5;34m32\u001b[0m, \u001b[38;5;34m64\u001b[0m)     │             \u001b[38;5;34m0\u001b[0m │\n",
       "├─────────────────────────────────┼────────────────────────┼───────────────┤\n",
       "│ global_average_pooling2d        │ (\u001b[38;5;45mNone\u001b[0m, \u001b[38;5;34m64\u001b[0m)             │             \u001b[38;5;34m0\u001b[0m │\n",
       "│ (\u001b[38;5;33mGlobalAveragePooling2D\u001b[0m)        │                        │               │\n",
       "├─────────────────────────────────┼────────────────────────┼───────────────┤\n",
       "│ dense (\u001b[38;5;33mDense\u001b[0m)                   │ (\u001b[38;5;45mNone\u001b[0m, \u001b[38;5;34m64\u001b[0m)             │         \u001b[38;5;34m4,160\u001b[0m │\n",
       "├─────────────────────────────────┼────────────────────────┼───────────────┤\n",
       "│ dropout (\u001b[38;5;33mDropout\u001b[0m)               │ (\u001b[38;5;45mNone\u001b[0m, \u001b[38;5;34m64\u001b[0m)             │             \u001b[38;5;34m0\u001b[0m │\n",
       "├─────────────────────────────────┼────────────────────────┼───────────────┤\n",
       "│ dense_1 (\u001b[38;5;33mDense\u001b[0m)                 │ (\u001b[38;5;45mNone\u001b[0m, \u001b[38;5;34m4\u001b[0m)              │           \u001b[38;5;34m260\u001b[0m │\n",
       "└─────────────────────────────────┴────────────────────────┴───────────────┘\n"
      ]
     },
     "metadata": {},
     "output_type": "display_data"
    },
    {
     "data": {
      "text/html": [
       "<pre style=\"white-space:pre;overflow-x:auto;line-height:normal;font-family:Menlo,'DejaVu Sans Mono',consolas,'Courier New',monospace\"><span style=\"font-weight: bold\"> Total params: </span><span style=\"color: #00af00; text-decoration-color: #00af00\">60,676</span> (237.02 KB)\n",
       "</pre>\n"
      ],
      "text/plain": [
       "\u001b[1m Total params: \u001b[0m\u001b[38;5;34m60,676\u001b[0m (237.02 KB)\n"
      ]
     },
     "metadata": {},
     "output_type": "display_data"
    },
    {
     "data": {
      "text/html": [
       "<pre style=\"white-space:pre;overflow-x:auto;line-height:normal;font-family:Menlo,'DejaVu Sans Mono',consolas,'Courier New',monospace\"><span style=\"font-weight: bold\"> Trainable params: </span><span style=\"color: #00af00; text-decoration-color: #00af00\">60,676</span> (237.02 KB)\n",
       "</pre>\n"
      ],
      "text/plain": [
       "\u001b[1m Trainable params: \u001b[0m\u001b[38;5;34m60,676\u001b[0m (237.02 KB)\n"
      ]
     },
     "metadata": {},
     "output_type": "display_data"
    },
    {
     "data": {
      "text/html": [
       "<pre style=\"white-space:pre;overflow-x:auto;line-height:normal;font-family:Menlo,'DejaVu Sans Mono',consolas,'Courier New',monospace\"><span style=\"font-weight: bold\"> Non-trainable params: </span><span style=\"color: #00af00; text-decoration-color: #00af00\">0</span> (0.00 B)\n",
       "</pre>\n"
      ],
      "text/plain": [
       "\u001b[1m Non-trainable params: \u001b[0m\u001b[38;5;34m0\u001b[0m (0.00 B)\n"
      ]
     },
     "metadata": {},
     "output_type": "display_data"
    }
   ],
   "source": [
    "model.summary()"
   ]
  },
  {
   "cell_type": "code",
   "execution_count": 8,
   "id": "9241ee4b",
   "metadata": {},
   "outputs": [],
   "source": [
    "keras.losses.CategoricalCrossentropy(label_smoothing=0.1)\n",
    "model.compile(\n",
    "    optimizer = tf.keras.optimizers.Adam(epsilon=0.01),\n",
    "    loss = 'categorical_crossentropy',\n",
    "    metrics=[\n",
    "        'accuracy',\n",
    "        metrics.Precision(name='precision'),\n",
    "        metrics.Recall(name='recall')\n",
    "    ]\n",
    ")"
   ]
  },
  {
   "cell_type": "code",
   "execution_count": 9,
   "id": "1b10287f",
   "metadata": {},
   "outputs": [
    {
     "name": "stdout",
     "output_type": "stream",
     "text": [
      "Epoch 1/200\n"
     ]
    },
    {
     "name": "stderr",
     "output_type": "stream",
     "text": [
      "I0000 00:00:1746843824.463651  233225 cuda_dnn.cc:529] Loaded cuDNN version 90300\n"
     ]
    },
    {
     "name": "stdout",
     "output_type": "stream",
     "text": [
      "\u001b[1m623/623\u001b[0m \u001b[32m━━━━━━━━━━━━━━━━━━━━\u001b[0m\u001b[37m\u001b[0m \u001b[1m13s\u001b[0m 18ms/step - accuracy: 0.5070 - loss: 1.3212 - precision: 0.6128 - recall: 0.2820 - val_accuracy: 0.5128 - val_loss: 1.2514 - val_precision: 0.5231 - val_recall: 0.2909\n",
      "Epoch 2/200\n",
      "\u001b[1m623/623\u001b[0m \u001b[32m━━━━━━━━━━━━━━━━━━━━\u001b[0m\u001b[37m\u001b[0m \u001b[1m11s\u001b[0m 18ms/step - accuracy: 0.6325 - loss: 0.9970 - precision: 0.7328 - recall: 0.4653 - val_accuracy: 0.6482 - val_loss: 0.9134 - val_precision: 0.7132 - val_recall: 0.5938\n",
      "Epoch 3/200\n",
      "\u001b[1m623/623\u001b[0m \u001b[32m━━━━━━━━━━━━━━━━━━━━\u001b[0m\u001b[37m\u001b[0m \u001b[1m11s\u001b[0m 18ms/step - accuracy: 0.6531 - loss: 0.9274 - precision: 0.7373 - recall: 0.5287 - val_accuracy: 0.6394 - val_loss: 0.9145 - val_precision: 0.7393 - val_recall: 0.5793\n",
      "Epoch 4/200\n",
      "\u001b[1m623/623\u001b[0m \u001b[32m━━━━━━━━━━━━━━━━━━━━\u001b[0m\u001b[37m\u001b[0m \u001b[1m11s\u001b[0m 17ms/step - accuracy: 0.6590 - loss: 0.8919 - precision: 0.7555 - recall: 0.5399 - val_accuracy: 0.6474 - val_loss: 0.8926 - val_precision: 0.7301 - val_recall: 0.5962\n",
      "Epoch 5/200\n",
      "\u001b[1m623/623\u001b[0m \u001b[32m━━━━━━━━━━━━━━━━━━━━\u001b[0m\u001b[37m\u001b[0m \u001b[1m11s\u001b[0m 18ms/step - accuracy: 0.6613 - loss: 0.8492 - precision: 0.7643 - recall: 0.5609 - val_accuracy: 0.6667 - val_loss: 0.7947 - val_precision: 0.7618 - val_recall: 0.5946\n",
      "Epoch 6/200\n",
      "\u001b[1m623/623\u001b[0m \u001b[32m━━━━━━━━━━━━━━━━━━━━\u001b[0m\u001b[37m\u001b[0m \u001b[1m12s\u001b[0m 19ms/step - accuracy: 0.6704 - loss: 0.8304 - precision: 0.7722 - recall: 0.5519 - val_accuracy: 0.5962 - val_loss: 1.0468 - val_precision: 0.6857 - val_recall: 0.5192\n",
      "Epoch 7/200\n",
      "\u001b[1m623/623\u001b[0m \u001b[32m━━━━━━━━━━━━━━━━━━━━\u001b[0m\u001b[37m\u001b[0m \u001b[1m11s\u001b[0m 17ms/step - accuracy: 0.6684 - loss: 0.8243 - precision: 0.7741 - recall: 0.5485 - val_accuracy: 0.6603 - val_loss: 0.7820 - val_precision: 0.7792 - val_recall: 0.5769\n",
      "Epoch 8/200\n",
      "\u001b[1m623/623\u001b[0m \u001b[32m━━━━━━━━━━━━━━━━━━━━\u001b[0m\u001b[37m\u001b[0m \u001b[1m12s\u001b[0m 19ms/step - accuracy: 0.6852 - loss: 0.7878 - precision: 0.7836 - recall: 0.5665 - val_accuracy: 0.6715 - val_loss: 0.7620 - val_precision: 0.7975 - val_recall: 0.5617\n",
      "Epoch 9/200\n",
      "\u001b[1m623/623\u001b[0m \u001b[32m━━━━━━━━━━━━━━━━━━━━\u001b[0m\u001b[37m\u001b[0m \u001b[1m12s\u001b[0m 19ms/step - accuracy: 0.6908 - loss: 0.7665 - precision: 0.7925 - recall: 0.5855 - val_accuracy: 0.7011 - val_loss: 0.7660 - val_precision: 0.7505 - val_recall: 0.6554\n",
      "Epoch 10/200\n",
      "\u001b[1m623/623\u001b[0m \u001b[32m━━━━━━━━━━━━━━━━━━━━\u001b[0m\u001b[37m\u001b[0m \u001b[1m11s\u001b[0m 17ms/step - accuracy: 0.7017 - loss: 0.7313 - precision: 0.8021 - recall: 0.6042 - val_accuracy: 0.6458 - val_loss: 0.8829 - val_precision: 0.6606 - val_recall: 0.6378\n",
      "Epoch 11/200\n",
      "\u001b[1m623/623\u001b[0m \u001b[32m━━━━━━━━━━━━━━━━━━━━\u001b[0m\u001b[37m\u001b[0m \u001b[1m12s\u001b[0m 19ms/step - accuracy: 0.7191 - loss: 0.7128 - precision: 0.8074 - recall: 0.6254 - val_accuracy: 0.7348 - val_loss: 0.6146 - val_precision: 0.8184 - val_recall: 0.6931\n",
      "Epoch 12/200\n",
      "\u001b[1m623/623\u001b[0m \u001b[32m━━━━━━━━━━━━━━━━━━━━\u001b[0m\u001b[37m\u001b[0m \u001b[1m11s\u001b[0m 17ms/step - accuracy: 0.7239 - loss: 0.6709 - precision: 0.8103 - recall: 0.6372 - val_accuracy: 0.7436 - val_loss: 0.6410 - val_precision: 0.7880 - val_recall: 0.7059\n",
      "Epoch 13/200\n",
      "\u001b[1m623/623\u001b[0m \u001b[32m━━━━━━━━━━━━━━━━━━━━\u001b[0m\u001b[37m\u001b[0m \u001b[1m12s\u001b[0m 19ms/step - accuracy: 0.7274 - loss: 0.6560 - precision: 0.8051 - recall: 0.6489 - val_accuracy: 0.6971 - val_loss: 0.8361 - val_precision: 0.7291 - val_recall: 0.6554\n",
      "Epoch 14/200\n",
      "\u001b[1m623/623\u001b[0m \u001b[32m━━━━━━━━━━━━━━━━━━━━\u001b[0m\u001b[37m\u001b[0m \u001b[1m12s\u001b[0m 19ms/step - accuracy: 0.7448 - loss: 0.6281 - precision: 0.8090 - recall: 0.6643 - val_accuracy: 0.7404 - val_loss: 0.6452 - val_precision: 0.7791 - val_recall: 0.7292\n",
      "Epoch 15/200\n",
      "\u001b[1m623/623\u001b[0m \u001b[32m━━━━━━━━━━━━━━━━━━━━\u001b[0m\u001b[37m\u001b[0m \u001b[1m11s\u001b[0m 17ms/step - accuracy: 0.7513 - loss: 0.6169 - precision: 0.8204 - recall: 0.6740 - val_accuracy: 0.7877 - val_loss: 0.5483 - val_precision: 0.8547 - val_recall: 0.7260\n",
      "Epoch 16/200\n",
      "\u001b[1m623/623\u001b[0m \u001b[32m━━━━━━━━━━━━━━━━━━━━\u001b[0m\u001b[37m\u001b[0m \u001b[1m11s\u001b[0m 18ms/step - accuracy: 0.7682 - loss: 0.5749 - precision: 0.8330 - recall: 0.7064 - val_accuracy: 0.7652 - val_loss: 0.5593 - val_precision: 0.7955 - val_recall: 0.7420\n",
      "Epoch 17/200\n",
      "\u001b[1m623/623\u001b[0m \u001b[32m━━━━━━━━━━━━━━━━━━━━\u001b[0m\u001b[37m\u001b[0m \u001b[1m11s\u001b[0m 18ms/step - accuracy: 0.7730 - loss: 0.5539 - precision: 0.8288 - recall: 0.7126 - val_accuracy: 0.7812 - val_loss: 0.5638 - val_precision: 0.8104 - val_recall: 0.7604\n",
      "Epoch 18/200\n",
      "\u001b[1m623/623\u001b[0m \u001b[32m━━━━━━━━━━━━━━━━━━━━\u001b[0m\u001b[37m\u001b[0m \u001b[1m11s\u001b[0m 17ms/step - accuracy: 0.7814 - loss: 0.5426 - precision: 0.8311 - recall: 0.7256 - val_accuracy: 0.8261 - val_loss: 0.4227 - val_precision: 0.8667 - val_recall: 0.7812\n",
      "Epoch 19/200\n",
      "\u001b[1m623/623\u001b[0m \u001b[32m━━━━━━━━━━━━━━━━━━━━\u001b[0m\u001b[37m\u001b[0m \u001b[1m11s\u001b[0m 18ms/step - accuracy: 0.7975 - loss: 0.4990 - precision: 0.8434 - recall: 0.7523 - val_accuracy: 0.8438 - val_loss: 0.4159 - val_precision: 0.8629 - val_recall: 0.8173\n",
      "Epoch 20/200\n",
      "\u001b[1m623/623\u001b[0m \u001b[32m━━━━━━━━━━━━━━━━━━━━\u001b[0m\u001b[37m\u001b[0m \u001b[1m11s\u001b[0m 18ms/step - accuracy: 0.8083 - loss: 0.4686 - precision: 0.8530 - recall: 0.7711 - val_accuracy: 0.8389 - val_loss: 0.3935 - val_precision: 0.8728 - val_recall: 0.8189\n",
      "Epoch 21/200\n",
      "\u001b[1m623/623\u001b[0m \u001b[32m━━━━━━━━━━━━━━━━━━━━\u001b[0m\u001b[37m\u001b[0m \u001b[1m11s\u001b[0m 17ms/step - accuracy: 0.8068 - loss: 0.4794 - precision: 0.8435 - recall: 0.7625 - val_accuracy: 0.8870 - val_loss: 0.3251 - val_precision: 0.9124 - val_recall: 0.8598\n",
      "Epoch 22/200\n",
      "\u001b[1m623/623\u001b[0m \u001b[32m━━━━━━━━━━━━━━━━━━━━\u001b[0m\u001b[37m\u001b[0m \u001b[1m11s\u001b[0m 18ms/step - accuracy: 0.8280 - loss: 0.4322 - precision: 0.8607 - recall: 0.7926 - val_accuracy: 0.8702 - val_loss: 0.3435 - val_precision: 0.8874 - val_recall: 0.8526\n",
      "Epoch 23/200\n",
      "\u001b[1m623/623\u001b[0m \u001b[32m━━━━━━━━━━━━━━━━━━━━\u001b[0m\u001b[37m\u001b[0m \u001b[1m11s\u001b[0m 18ms/step - accuracy: 0.8425 - loss: 0.4051 - precision: 0.8736 - recall: 0.8129 - val_accuracy: 0.9046 - val_loss: 0.2869 - val_precision: 0.9195 - val_recall: 0.8878\n",
      "Epoch 24/200\n",
      "\u001b[1m623/623\u001b[0m \u001b[32m━━━━━━━━━━━━━━━━━━━━\u001b[0m\u001b[37m\u001b[0m \u001b[1m11s\u001b[0m 17ms/step - accuracy: 0.8428 - loss: 0.4022 - precision: 0.8689 - recall: 0.8162 - val_accuracy: 0.8790 - val_loss: 0.3412 - val_precision: 0.8875 - val_recall: 0.8662\n",
      "Epoch 25/200\n",
      "\u001b[1m623/623\u001b[0m \u001b[32m━━━━━━━━━━━━━━━━━━━━\u001b[0m\u001b[37m\u001b[0m \u001b[1m11s\u001b[0m 18ms/step - accuracy: 0.8552 - loss: 0.3682 - precision: 0.8800 - recall: 0.8300 - val_accuracy: 0.8542 - val_loss: 0.3567 - val_precision: 0.8918 - val_recall: 0.8325\n",
      "Epoch 26/200\n",
      "\u001b[1m623/623\u001b[0m \u001b[32m━━━━━━━━━━━━━━━━━━━━\u001b[0m\u001b[37m\u001b[0m \u001b[1m11s\u001b[0m 17ms/step - accuracy: 0.8679 - loss: 0.3427 - precision: 0.8893 - recall: 0.8459 - val_accuracy: 0.9038 - val_loss: 0.2717 - val_precision: 0.9122 - val_recall: 0.8910\n",
      "Epoch 27/200\n",
      "\u001b[1m623/623\u001b[0m \u001b[32m━━━━━━━━━━━━━━━━━━━━\u001b[0m\u001b[37m\u001b[0m \u001b[1m11s\u001b[0m 18ms/step - accuracy: 0.8621 - loss: 0.3435 - precision: 0.8847 - recall: 0.8447 - val_accuracy: 0.8990 - val_loss: 0.2714 - val_precision: 0.9056 - val_recall: 0.8918\n",
      "Epoch 28/200\n",
      "\u001b[1m623/623\u001b[0m \u001b[32m━━━━━━━━━━━━━━━━━━━━\u001b[0m\u001b[37m\u001b[0m \u001b[1m11s\u001b[0m 18ms/step - accuracy: 0.8887 - loss: 0.2862 - precision: 0.9056 - recall: 0.8722 - val_accuracy: 0.9295 - val_loss: 0.2303 - val_precision: 0.9381 - val_recall: 0.9111\n",
      "Epoch 29/200\n",
      "\u001b[1m623/623\u001b[0m \u001b[32m━━━━━━━━━━━━━━━━━━━━\u001b[0m\u001b[37m\u001b[0m \u001b[1m11s\u001b[0m 17ms/step - accuracy: 0.8988 - loss: 0.2834 - precision: 0.9123 - recall: 0.8866 - val_accuracy: 0.9079 - val_loss: 0.2923 - val_precision: 0.9249 - val_recall: 0.8886\n",
      "Epoch 30/200\n",
      "\u001b[1m623/623\u001b[0m \u001b[32m━━━━━━━━━━━━━━━━━━━━\u001b[0m\u001b[37m\u001b[0m \u001b[1m11s\u001b[0m 18ms/step - accuracy: 0.9058 - loss: 0.2627 - precision: 0.9146 - recall: 0.8949 - val_accuracy: 0.8902 - val_loss: 0.2977 - val_precision: 0.8983 - val_recall: 0.8846\n",
      "Epoch 31/200\n",
      "\u001b[1m623/623\u001b[0m \u001b[32m━━━━━━━━━━━━━━━━━━━━\u001b[0m\u001b[37m\u001b[0m \u001b[1m12s\u001b[0m 19ms/step - accuracy: 0.9063 - loss: 0.2395 - precision: 0.9174 - recall: 0.8964 - val_accuracy: 0.8606 - val_loss: 0.3599 - val_precision: 0.8687 - val_recall: 0.8534\n",
      "Epoch 32/200\n",
      "\u001b[1m623/623\u001b[0m \u001b[32m━━━━━━━━━━━━━━━━━━━━\u001b[0m\u001b[37m\u001b[0m \u001b[1m11s\u001b[0m 18ms/step - accuracy: 0.9037 - loss: 0.2473 - precision: 0.9142 - recall: 0.8947 - val_accuracy: 0.9127 - val_loss: 0.2674 - val_precision: 0.9167 - val_recall: 0.9079\n",
      "Epoch 33/200\n",
      "\u001b[1m623/623\u001b[0m \u001b[32m━━━━━━━━━━━━━━━━━━━━\u001b[0m\u001b[37m\u001b[0m \u001b[1m12s\u001b[0m 19ms/step - accuracy: 0.9153 - loss: 0.2296 - precision: 0.9232 - recall: 0.9092 - val_accuracy: 0.9199 - val_loss: 0.2422 - val_precision: 0.9306 - val_recall: 0.9127\n",
      "Epoch 34/200\n",
      "\u001b[1m623/623\u001b[0m \u001b[32m━━━━━━━━━━━━━━━━━━━━\u001b[0m\u001b[37m\u001b[0m \u001b[1m12s\u001b[0m 19ms/step - accuracy: 0.9245 - loss: 0.2110 - precision: 0.9308 - recall: 0.9170 - val_accuracy: 0.9575 - val_loss: 0.1313 - val_precision: 0.9597 - val_recall: 0.9543\n",
      "Epoch 35/200\n",
      "\u001b[1m623/623\u001b[0m \u001b[32m━━━━━━━━━━━━━━━━━━━━\u001b[0m\u001b[37m\u001b[0m \u001b[1m11s\u001b[0m 18ms/step - accuracy: 0.9153 - loss: 0.2318 - precision: 0.9222 - recall: 0.9051 - val_accuracy: 0.8998 - val_loss: 0.3186 - val_precision: 0.9047 - val_recall: 0.8902\n",
      "Epoch 36/200\n",
      "\u001b[1m623/623\u001b[0m \u001b[32m━━━━━━━━━━━━━━━━━━━━\u001b[0m\u001b[37m\u001b[0m \u001b[1m12s\u001b[0m 20ms/step - accuracy: 0.9227 - loss: 0.2113 - precision: 0.9322 - recall: 0.9146 - val_accuracy: 0.9207 - val_loss: 0.2311 - val_precision: 0.9236 - val_recall: 0.9199\n",
      "Epoch 37/200\n",
      "\u001b[1m623/623\u001b[0m \u001b[32m━━━━━━━━━━━━━━━━━━━━\u001b[0m\u001b[37m\u001b[0m \u001b[1m12s\u001b[0m 19ms/step - accuracy: 0.9238 - loss: 0.2002 - precision: 0.9315 - recall: 0.9186 - val_accuracy: 0.9375 - val_loss: 0.2000 - val_precision: 0.9403 - val_recall: 0.9343\n",
      "Epoch 38/200\n",
      "\u001b[1m623/623\u001b[0m \u001b[32m━━━━━━━━━━━━━━━━━━━━\u001b[0m\u001b[37m\u001b[0m \u001b[1m12s\u001b[0m 19ms/step - accuracy: 0.9324 - loss: 0.1902 - precision: 0.9358 - recall: 0.9274 - val_accuracy: 0.9071 - val_loss: 0.3446 - val_precision: 0.9088 - val_recall: 0.9022\n",
      "Epoch 39/200\n",
      "\u001b[1m623/623\u001b[0m \u001b[32m━━━━━━━━━━━━━━━━━━━━\u001b[0m\u001b[37m\u001b[0m \u001b[1m12s\u001b[0m 19ms/step - accuracy: 0.9358 - loss: 0.1761 - precision: 0.9398 - recall: 0.9311 - val_accuracy: 0.9231 - val_loss: 0.2470 - val_precision: 0.9292 - val_recall: 0.9151\n",
      "Epoch 40/200\n",
      "\u001b[1m623/623\u001b[0m \u001b[32m━━━━━━━━━━━━━━━━━━━━\u001b[0m\u001b[37m\u001b[0m \u001b[1m11s\u001b[0m 18ms/step - accuracy: 0.9346 - loss: 0.1743 - precision: 0.9396 - recall: 0.9286 - val_accuracy: 0.9247 - val_loss: 0.2809 - val_precision: 0.9254 - val_recall: 0.9239\n",
      "Epoch 41/200\n",
      "\u001b[1m623/623\u001b[0m \u001b[32m━━━━━━━━━━━━━━━━━━━━\u001b[0m\u001b[37m\u001b[0m \u001b[1m12s\u001b[0m 19ms/step - accuracy: 0.9414 - loss: 0.1638 - precision: 0.9449 - recall: 0.9371 - val_accuracy: 0.9543 - val_loss: 0.1403 - val_precision: 0.9573 - val_recall: 0.9527\n",
      "Epoch 42/200\n",
      "\u001b[1m623/623\u001b[0m \u001b[32m━━━━━━━━━━━━━━━━━━━━\u001b[0m\u001b[37m\u001b[0m \u001b[1m12s\u001b[0m 19ms/step - accuracy: 0.9394 - loss: 0.1649 - precision: 0.9436 - recall: 0.9359 - val_accuracy: 0.9712 - val_loss: 0.0832 - val_precision: 0.9726 - val_recall: 0.9688\n",
      "Epoch 43/200\n",
      "\u001b[1m623/623\u001b[0m \u001b[32m━━━━━━━━━━━━━━━━━━━━\u001b[0m\u001b[37m\u001b[0m \u001b[1m11s\u001b[0m 17ms/step - accuracy: 0.9458 - loss: 0.1568 - precision: 0.9499 - recall: 0.9436 - val_accuracy: 0.9503 - val_loss: 0.1310 - val_precision: 0.9541 - val_recall: 0.9503\n",
      "Epoch 44/200\n",
      "\u001b[1m623/623\u001b[0m \u001b[32m━━━━━━━━━━━━━━━━━━━━\u001b[0m\u001b[37m\u001b[0m \u001b[1m12s\u001b[0m 19ms/step - accuracy: 0.9505 - loss: 0.1536 - precision: 0.9529 - recall: 0.9466 - val_accuracy: 0.9295 - val_loss: 0.2449 - val_precision: 0.9331 - val_recall: 0.9279\n",
      "Epoch 45/200\n",
      "\u001b[1m623/623\u001b[0m \u001b[32m━━━━━━━━━━━━━━━━━━━━\u001b[0m\u001b[37m\u001b[0m \u001b[1m12s\u001b[0m 19ms/step - accuracy: 0.9475 - loss: 0.1423 - precision: 0.9499 - recall: 0.9441 - val_accuracy: 0.9720 - val_loss: 0.0877 - val_precision: 0.9727 - val_recall: 0.9712\n",
      "Epoch 46/200\n",
      "\u001b[1m623/623\u001b[0m \u001b[32m━━━━━━━━━━━━━━━━━━━━\u001b[0m\u001b[37m\u001b[0m \u001b[1m11s\u001b[0m 17ms/step - accuracy: 0.9550 - loss: 0.1362 - precision: 0.9571 - recall: 0.9532 - val_accuracy: 0.9728 - val_loss: 0.0649 - val_precision: 0.9743 - val_recall: 0.9728\n",
      "Epoch 47/200\n",
      "\u001b[1m623/623\u001b[0m \u001b[32m━━━━━━━━━━━━━━━━━━━━\u001b[0m\u001b[37m\u001b[0m \u001b[1m12s\u001b[0m 19ms/step - accuracy: 0.9527 - loss: 0.1337 - precision: 0.9551 - recall: 0.9504 - val_accuracy: 0.9599 - val_loss: 0.1329 - val_precision: 0.9614 - val_recall: 0.9591\n",
      "Epoch 48/200\n",
      "\u001b[1m623/623\u001b[0m \u001b[32m━━━━━━━━━━━━━━━━━━━━\u001b[0m\u001b[37m\u001b[0m \u001b[1m12s\u001b[0m 19ms/step - accuracy: 0.9531 - loss: 0.1350 - precision: 0.9556 - recall: 0.9505 - val_accuracy: 0.9407 - val_loss: 0.1647 - val_precision: 0.9421 - val_recall: 0.9391\n",
      "Epoch 49/200\n",
      "\u001b[1m623/623\u001b[0m \u001b[32m━━━━━━━━━━━━━━━━━━━━\u001b[0m\u001b[37m\u001b[0m \u001b[1m11s\u001b[0m 18ms/step - accuracy: 0.9631 - loss: 0.1088 - precision: 0.9640 - recall: 0.9611 - val_accuracy: 0.8622 - val_loss: 0.6700 - val_precision: 0.8629 - val_recall: 0.8622\n",
      "Epoch 50/200\n",
      "\u001b[1m623/623\u001b[0m \u001b[32m━━━━━━━━━━━━━━━━━━━━\u001b[0m\u001b[37m\u001b[0m \u001b[1m12s\u001b[0m 19ms/step - accuracy: 0.9576 - loss: 0.1201 - precision: 0.9589 - recall: 0.9555 - val_accuracy: 0.9391 - val_loss: 0.2344 - val_precision: 0.9404 - val_recall: 0.9359\n",
      "Epoch 51/200\n",
      "\u001b[1m623/623\u001b[0m \u001b[32m━━━━━━━━━━━━━━━━━━━━\u001b[0m\u001b[37m\u001b[0m \u001b[1m11s\u001b[0m 17ms/step - accuracy: 0.9628 - loss: 0.1156 - precision: 0.9640 - recall: 0.9609 - val_accuracy: 0.9728 - val_loss: 0.0656 - val_precision: 0.9735 - val_recall: 0.9728\n",
      "Epoch 52/200\n",
      "\u001b[1m623/623\u001b[0m \u001b[32m━━━━━━━━━━━━━━━━━━━━\u001b[0m\u001b[37m\u001b[0m \u001b[1m12s\u001b[0m 19ms/step - accuracy: 0.9553 - loss: 0.1350 - precision: 0.9577 - recall: 0.9542 - val_accuracy: 0.9615 - val_loss: 0.1176 - val_precision: 0.9623 - val_recall: 0.9615\n",
      "Epoch 53/200\n",
      "\u001b[1m623/623\u001b[0m \u001b[32m━━━━━━━━━━━━━━━━━━━━\u001b[0m\u001b[37m\u001b[0m \u001b[1m12s\u001b[0m 19ms/step - accuracy: 0.9637 - loss: 0.1095 - precision: 0.9657 - recall: 0.9619 - val_accuracy: 0.9407 - val_loss: 0.1809 - val_precision: 0.9429 - val_recall: 0.9391\n",
      "Epoch 54/200\n",
      "\u001b[1m623/623\u001b[0m \u001b[32m━━━━━━━━━━━━━━━━━━━━\u001b[0m\u001b[37m\u001b[0m \u001b[1m11s\u001b[0m 18ms/step - accuracy: 0.9672 - loss: 0.0994 - precision: 0.9681 - recall: 0.9654 - val_accuracy: 0.9623 - val_loss: 0.1289 - val_precision: 0.9646 - val_recall: 0.9607\n",
      "Epoch 55/200\n",
      "\u001b[1m623/623\u001b[0m \u001b[32m━━━━━━━━━━━━━━━━━━━━\u001b[0m\u001b[37m\u001b[0m \u001b[1m12s\u001b[0m 19ms/step - accuracy: 0.9607 - loss: 0.1122 - precision: 0.9637 - recall: 0.9586 - val_accuracy: 0.9495 - val_loss: 0.1456 - val_precision: 0.9517 - val_recall: 0.9471\n",
      "Epoch 56/200\n",
      "\u001b[1m623/623\u001b[0m \u001b[32m━━━━━━━━━━━━━━━━━━━━\u001b[0m\u001b[37m\u001b[0m \u001b[1m12s\u001b[0m 19ms/step - accuracy: 0.9688 - loss: 0.0906 - precision: 0.9700 - recall: 0.9686 - val_accuracy: 0.9535 - val_loss: 0.1958 - val_precision: 0.9535 - val_recall: 0.9527\n",
      "Epoch 57/200\n",
      "\u001b[1m623/623\u001b[0m \u001b[32m━━━━━━━━━━━━━━━━━━━━\u001b[0m\u001b[37m\u001b[0m \u001b[1m11s\u001b[0m 17ms/step - accuracy: 0.9522 - loss: 0.1257 - precision: 0.9538 - recall: 0.9514 - val_accuracy: 0.9872 - val_loss: 0.0468 - val_precision: 0.9872 - val_recall: 0.9872\n",
      "Epoch 58/200\n",
      "\u001b[1m623/623\u001b[0m \u001b[32m━━━━━━━━━━━━━━━━━━━━\u001b[0m\u001b[37m\u001b[0m \u001b[1m11s\u001b[0m 18ms/step - accuracy: 0.9670 - loss: 0.0892 - precision: 0.9686 - recall: 0.9665 - val_accuracy: 0.9583 - val_loss: 0.1499 - val_precision: 0.9606 - val_recall: 0.9583\n",
      "Epoch 59/200\n",
      "\u001b[1m623/623\u001b[0m \u001b[32m━━━━━━━━━━━━━━━━━━━━\u001b[0m\u001b[37m\u001b[0m \u001b[1m12s\u001b[0m 19ms/step - accuracy: 0.9653 - loss: 0.0887 - precision: 0.9663 - recall: 0.9642 - val_accuracy: 0.9583 - val_loss: 0.1185 - val_precision: 0.9606 - val_recall: 0.9567\n",
      "Epoch 60/200\n",
      "\u001b[1m623/623\u001b[0m \u001b[32m━━━━━━━━━━━━━━━━━━━━\u001b[0m\u001b[37m\u001b[0m \u001b[1m11s\u001b[0m 17ms/step - accuracy: 0.9694 - loss: 0.1059 - precision: 0.9710 - recall: 0.9677 - val_accuracy: 0.9800 - val_loss: 0.0601 - val_precision: 0.9808 - val_recall: 0.9800\n",
      "Epoch 61/200\n",
      "\u001b[1m623/623\u001b[0m \u001b[32m━━━━━━━━━━━━━━━━━━━━\u001b[0m\u001b[37m\u001b[0m \u001b[1m11s\u001b[0m 18ms/step - accuracy: 0.9720 - loss: 0.0877 - precision: 0.9732 - recall: 0.9713 - val_accuracy: 0.9263 - val_loss: 0.3270 - val_precision: 0.9270 - val_recall: 0.9255\n",
      "Epoch 62/200\n",
      "\u001b[1m623/623\u001b[0m \u001b[32m━━━━━━━━━━━━━━━━━━━━\u001b[0m\u001b[37m\u001b[0m \u001b[1m11s\u001b[0m 18ms/step - accuracy: 0.9716 - loss: 0.0834 - precision: 0.9733 - recall: 0.9706 - val_accuracy: 0.9551 - val_loss: 0.1636 - val_precision: 0.9559 - val_recall: 0.9551\n",
      "Epoch 63/200\n",
      "\u001b[1m623/623\u001b[0m \u001b[32m━━━━━━━━━━━━━━━━━━━━\u001b[0m\u001b[37m\u001b[0m \u001b[1m11s\u001b[0m 17ms/step - accuracy: 0.9670 - loss: 0.1044 - precision: 0.9687 - recall: 0.9661 - val_accuracy: 0.9768 - val_loss: 0.0688 - val_precision: 0.9775 - val_recall: 0.9760\n",
      "Epoch 64/200\n",
      "\u001b[1m623/623\u001b[0m \u001b[32m━━━━━━━━━━━━━━━━━━━━\u001b[0m\u001b[37m\u001b[0m \u001b[1m12s\u001b[0m 19ms/step - accuracy: 0.9694 - loss: 0.0901 - precision: 0.9705 - recall: 0.9688 - val_accuracy: 0.9663 - val_loss: 0.1381 - val_precision: 0.9663 - val_recall: 0.9663\n",
      "Epoch 65/200\n",
      "\u001b[1m623/623\u001b[0m \u001b[32m━━━━━━━━━━━━━━━━━━━━\u001b[0m\u001b[37m\u001b[0m \u001b[1m11s\u001b[0m 17ms/step - accuracy: 0.9668 - loss: 0.0908 - precision: 0.9677 - recall: 0.9661 - val_accuracy: 0.9615 - val_loss: 0.1304 - val_precision: 0.9615 - val_recall: 0.9615\n",
      "Epoch 66/200\n",
      "\u001b[1m623/623\u001b[0m \u001b[32m━━━━━━━━━━━━━━━━━━━━\u001b[0m\u001b[37m\u001b[0m \u001b[1m11s\u001b[0m 18ms/step - accuracy: 0.9686 - loss: 0.0884 - precision: 0.9697 - recall: 0.9679 - val_accuracy: 0.9784 - val_loss: 0.0580 - val_precision: 0.9799 - val_recall: 0.9776\n",
      "Epoch 67/200\n",
      "\u001b[1m623/623\u001b[0m \u001b[32m━━━━━━━━━━━━━━━━━━━━\u001b[0m\u001b[37m\u001b[0m \u001b[1m12s\u001b[0m 19ms/step - accuracy: 0.9723 - loss: 0.0814 - precision: 0.9731 - recall: 0.9713 - val_accuracy: 0.9567 - val_loss: 0.1495 - val_precision: 0.9575 - val_recall: 0.9567\n",
      "Epoch 68/200\n",
      "\u001b[1m623/623\u001b[0m \u001b[32m━━━━━━━━━━━━━━━━━━━━\u001b[0m\u001b[37m\u001b[0m \u001b[1m11s\u001b[0m 17ms/step - accuracy: 0.9775 - loss: 0.0695 - precision: 0.9781 - recall: 0.9758 - val_accuracy: 0.9696 - val_loss: 0.0763 - val_precision: 0.9696 - val_recall: 0.9696\n",
      "Epoch 69/200\n",
      "\u001b[1m623/623\u001b[0m \u001b[32m━━━━━━━━━━━━━━━━━━━━\u001b[0m\u001b[37m\u001b[0m \u001b[1m12s\u001b[0m 19ms/step - accuracy: 0.9718 - loss: 0.0787 - precision: 0.9724 - recall: 0.9707 - val_accuracy: 0.9728 - val_loss: 0.0723 - val_precision: 0.9728 - val_recall: 0.9728\n",
      "Epoch 70/200\n",
      "\u001b[1m623/623\u001b[0m \u001b[32m━━━━━━━━━━━━━━━━━━━━\u001b[0m\u001b[37m\u001b[0m \u001b[1m12s\u001b[0m 19ms/step - accuracy: 0.9732 - loss: 0.0752 - precision: 0.9739 - recall: 0.9725 - val_accuracy: 0.9728 - val_loss: 0.0929 - val_precision: 0.9727 - val_recall: 0.9720\n",
      "Epoch 71/200\n",
      "\u001b[1m623/623\u001b[0m \u001b[32m━━━━━━━━━━━━━━━━━━━━\u001b[0m\u001b[37m\u001b[0m \u001b[1m11s\u001b[0m 17ms/step - accuracy: 0.9746 - loss: 0.0708 - precision: 0.9756 - recall: 0.9738 - val_accuracy: 0.9776 - val_loss: 0.0713 - val_precision: 0.9783 - val_recall: 0.9776\n",
      "Epoch 72/200\n",
      "\u001b[1m623/623\u001b[0m \u001b[32m━━━━━━━━━━━━━━━━━━━━\u001b[0m\u001b[37m\u001b[0m \u001b[1m12s\u001b[0m 19ms/step - accuracy: 0.9768 - loss: 0.0659 - precision: 0.9776 - recall: 0.9756 - val_accuracy: 0.9848 - val_loss: 0.0583 - val_precision: 0.9848 - val_recall: 0.9840\n",
      "Epoch 73/200\n",
      "\u001b[1m623/623\u001b[0m \u001b[32m━━━━━━━━━━━━━━━━━━━━\u001b[0m\u001b[37m\u001b[0m \u001b[1m12s\u001b[0m 19ms/step - accuracy: 0.9737 - loss: 0.0825 - precision: 0.9749 - recall: 0.9733 - val_accuracy: 0.9904 - val_loss: 0.0441 - val_precision: 0.9904 - val_recall: 0.9904\n",
      "Epoch 74/200\n",
      "\u001b[1m623/623\u001b[0m \u001b[32m━━━━━━━━━━━━━━━━━━━━\u001b[0m\u001b[37m\u001b[0m \u001b[1m11s\u001b[0m 18ms/step - accuracy: 0.9762 - loss: 0.0754 - precision: 0.9768 - recall: 0.9756 - val_accuracy: 0.9816 - val_loss: 0.0606 - val_precision: 0.9839 - val_recall: 0.9816\n",
      "Epoch 75/200\n",
      "\u001b[1m623/623\u001b[0m \u001b[32m━━━━━━━━━━━━━━━━━━━━\u001b[0m\u001b[37m\u001b[0m \u001b[1m12s\u001b[0m 19ms/step - accuracy: 0.9787 - loss: 0.0646 - precision: 0.9797 - recall: 0.9783 - val_accuracy: 0.9567 - val_loss: 0.1797 - val_precision: 0.9567 - val_recall: 0.9567\n",
      "Epoch 76/200\n",
      "\u001b[1m623/623\u001b[0m \u001b[32m━━━━━━━━━━━━━━━━━━━━\u001b[0m\u001b[37m\u001b[0m \u001b[1m11s\u001b[0m 18ms/step - accuracy: 0.9751 - loss: 0.0782 - precision: 0.9762 - recall: 0.9746 - val_accuracy: 0.9816 - val_loss: 0.0614 - val_precision: 0.9824 - val_recall: 0.9816\n",
      "Epoch 77/200\n",
      "\u001b[1m623/623\u001b[0m \u001b[32m━━━━━━━━━━━━━━━━━━━━\u001b[0m\u001b[37m\u001b[0m \u001b[1m12s\u001b[0m 19ms/step - accuracy: 0.9772 - loss: 0.0635 - precision: 0.9782 - recall: 0.9765 - val_accuracy: 0.9720 - val_loss: 0.1108 - val_precision: 0.9727 - val_recall: 0.9720\n",
      "Epoch 78/200\n",
      "\u001b[1m623/623\u001b[0m \u001b[32m━━━━━━━━━━━━━━━━━━━━\u001b[0m\u001b[37m\u001b[0m \u001b[1m12s\u001b[0m 19ms/step - accuracy: 0.9787 - loss: 0.0652 - precision: 0.9792 - recall: 0.9784 - val_accuracy: 0.9728 - val_loss: 0.0909 - val_precision: 0.9735 - val_recall: 0.9712\n",
      "Epoch 79/200\n",
      "\u001b[1m623/623\u001b[0m \u001b[32m━━━━━━━━━━━━━━━━━━━━\u001b[0m\u001b[37m\u001b[0m \u001b[1m11s\u001b[0m 18ms/step - accuracy: 0.9753 - loss: 0.0752 - precision: 0.9763 - recall: 0.9734 - val_accuracy: 0.9335 - val_loss: 0.2406 - val_precision: 0.9371 - val_recall: 0.9319\n",
      "Epoch 80/200\n",
      "\u001b[1m623/623\u001b[0m \u001b[32m━━━━━━━━━━━━━━━━━━━━\u001b[0m\u001b[37m\u001b[0m \u001b[1m12s\u001b[0m 19ms/step - accuracy: 0.9762 - loss: 0.0766 - precision: 0.9768 - recall: 0.9748 - val_accuracy: 0.9447 - val_loss: 0.1953 - val_precision: 0.9454 - val_recall: 0.9439\n",
      "Epoch 81/200\n",
      "\u001b[1m623/623\u001b[0m \u001b[32m━━━━━━━━━━━━━━━━━━━━\u001b[0m\u001b[37m\u001b[0m \u001b[1m12s\u001b[0m 19ms/step - accuracy: 0.9774 - loss: 0.0659 - precision: 0.9780 - recall: 0.9774 - val_accuracy: 0.9631 - val_loss: 0.1364 - val_precision: 0.9639 - val_recall: 0.9631\n",
      "Epoch 82/200\n",
      "\u001b[1m623/623\u001b[0m \u001b[32m━━━━━━━━━━━━━━━━━━━━\u001b[0m\u001b[37m\u001b[0m \u001b[1m11s\u001b[0m 18ms/step - accuracy: 0.9810 - loss: 0.0552 - precision: 0.9814 - recall: 0.9807 - val_accuracy: 0.9856 - val_loss: 0.0534 - val_precision: 0.9856 - val_recall: 0.9856\n",
      "Epoch 83/200\n",
      "\u001b[1m623/623\u001b[0m \u001b[32m━━━━━━━━━━━━━━━━━━━━\u001b[0m\u001b[37m\u001b[0m \u001b[1m12s\u001b[0m 19ms/step - accuracy: 0.9750 - loss: 0.0754 - precision: 0.9758 - recall: 0.9734 - val_accuracy: 0.8918 - val_loss: 0.4290 - val_precision: 0.8925 - val_recall: 0.8910\n",
      "Epoch 84/200\n",
      "\u001b[1m623/623\u001b[0m \u001b[32m━━━━━━━━━━━━━━━━━━━━\u001b[0m\u001b[37m\u001b[0m \u001b[1m12s\u001b[0m 19ms/step - accuracy: 0.9786 - loss: 0.0607 - precision: 0.9789 - recall: 0.9782 - val_accuracy: 0.9559 - val_loss: 0.1508 - val_precision: 0.9574 - val_recall: 0.9551\n",
      "Epoch 85/200\n",
      "\u001b[1m623/623\u001b[0m \u001b[32m━━━━━━━━━━━━━━━━━━━━\u001b[0m\u001b[37m\u001b[0m \u001b[1m12s\u001b[0m 19ms/step - accuracy: 0.9795 - loss: 0.0597 - precision: 0.9798 - recall: 0.9793 - val_accuracy: 0.9784 - val_loss: 0.0810 - val_precision: 0.9783 - val_recall: 0.9768\n",
      "Epoch 86/200\n",
      "\u001b[1m623/623\u001b[0m \u001b[32m━━━━━━━━━━━━━━━━━━━━\u001b[0m\u001b[37m\u001b[0m \u001b[1m12s\u001b[0m 19ms/step - accuracy: 0.9855 - loss: 0.0498 - precision: 0.9861 - recall: 0.9843 - val_accuracy: 0.9888 - val_loss: 0.0331 - val_precision: 0.9896 - val_recall: 0.9880\n",
      "Epoch 87/200\n",
      "\u001b[1m623/623\u001b[0m \u001b[32m━━━━━━━━━━━━━━━━━━━━\u001b[0m\u001b[37m\u001b[0m \u001b[1m11s\u001b[0m 18ms/step - accuracy: 0.9845 - loss: 0.0463 - precision: 0.9848 - recall: 0.9840 - val_accuracy: 0.9655 - val_loss: 0.1286 - val_precision: 0.9655 - val_recall: 0.9647\n",
      "Epoch 88/200\n",
      "\u001b[1m623/623\u001b[0m \u001b[32m━━━━━━━━━━━━━━━━━━━━\u001b[0m\u001b[37m\u001b[0m \u001b[1m12s\u001b[0m 19ms/step - accuracy: 0.9801 - loss: 0.0538 - precision: 0.9810 - recall: 0.9800 - val_accuracy: 0.9728 - val_loss: 0.0750 - val_precision: 0.9735 - val_recall: 0.9720\n",
      "Epoch 89/200\n",
      "\u001b[1m623/623\u001b[0m \u001b[32m━━━━━━━━━━━━━━━━━━━━\u001b[0m\u001b[37m\u001b[0m \u001b[1m12s\u001b[0m 19ms/step - accuracy: 0.9854 - loss: 0.0470 - precision: 0.9854 - recall: 0.9850 - val_accuracy: 0.9800 - val_loss: 0.0482 - val_precision: 0.9800 - val_recall: 0.9800\n",
      "Epoch 90/200\n",
      "\u001b[1m623/623\u001b[0m \u001b[32m━━━━━━━━━━━━━━━━━━━━\u001b[0m\u001b[37m\u001b[0m \u001b[1m11s\u001b[0m 18ms/step - accuracy: 0.9826 - loss: 0.0547 - precision: 0.9827 - recall: 0.9826 - val_accuracy: 0.9720 - val_loss: 0.1119 - val_precision: 0.9720 - val_recall: 0.9720\n",
      "Epoch 91/200\n",
      "\u001b[1m623/623\u001b[0m \u001b[32m━━━━━━━━━━━━━━━━━━━━\u001b[0m\u001b[37m\u001b[0m \u001b[1m12s\u001b[0m 20ms/step - accuracy: 0.9709 - loss: 0.0797 - precision: 0.9715 - recall: 0.9704 - val_accuracy: 0.9760 - val_loss: 0.0911 - val_precision: 0.9767 - val_recall: 0.9760\n",
      "Epoch 92/200\n",
      "\u001b[1m623/623\u001b[0m \u001b[32m━━━━━━━━━━━━━━━━━━━━\u001b[0m\u001b[37m\u001b[0m \u001b[1m12s\u001b[0m 19ms/step - accuracy: 0.9814 - loss: 0.0611 - precision: 0.9815 - recall: 0.9811 - val_accuracy: 0.9840 - val_loss: 0.0446 - val_precision: 0.9840 - val_recall: 0.9840\n",
      "Epoch 93/200\n",
      "\u001b[1m623/623\u001b[0m \u001b[32m━━━━━━━━━━━━━━━━━━━━\u001b[0m\u001b[37m\u001b[0m \u001b[1m11s\u001b[0m 18ms/step - accuracy: 0.9812 - loss: 0.0501 - precision: 0.9819 - recall: 0.9811 - val_accuracy: 0.9760 - val_loss: 0.0818 - val_precision: 0.9760 - val_recall: 0.9760\n",
      "Epoch 94/200\n",
      "\u001b[1m623/623\u001b[0m \u001b[32m━━━━━━━━━━━━━━━━━━━━\u001b[0m\u001b[37m\u001b[0m \u001b[1m12s\u001b[0m 19ms/step - accuracy: 0.9818 - loss: 0.0574 - precision: 0.9822 - recall: 0.9813 - val_accuracy: 0.9679 - val_loss: 0.1439 - val_precision: 0.9679 - val_recall: 0.9679\n",
      "Epoch 95/200\n",
      "\u001b[1m623/623\u001b[0m \u001b[32m━━━━━━━━━━━━━━━━━━━━\u001b[0m\u001b[37m\u001b[0m \u001b[1m11s\u001b[0m 18ms/step - accuracy: 0.9808 - loss: 0.0546 - precision: 0.9815 - recall: 0.9804 - val_accuracy: 0.9215 - val_loss: 0.2466 - val_precision: 0.9228 - val_recall: 0.9199\n",
      "Epoch 96/200\n",
      "\u001b[1m623/623\u001b[0m \u001b[32m━━━━━━━━━━━━━━━━━━━━\u001b[0m\u001b[37m\u001b[0m \u001b[1m12s\u001b[0m 19ms/step - accuracy: 0.9775 - loss: 0.0741 - precision: 0.9794 - recall: 0.9754 - val_accuracy: 0.9840 - val_loss: 0.0503 - val_precision: 0.9848 - val_recall: 0.9840\n",
      "Epoch 97/200\n",
      "\u001b[1m623/623\u001b[0m \u001b[32m━━━━━━━━━━━━━━━━━━━━\u001b[0m\u001b[37m\u001b[0m \u001b[1m12s\u001b[0m 19ms/step - accuracy: 0.9866 - loss: 0.0381 - precision: 0.9867 - recall: 0.9865 - val_accuracy: 0.9679 - val_loss: 0.1041 - val_precision: 0.9679 - val_recall: 0.9679\n",
      "Epoch 98/200\n",
      "\u001b[1m623/623\u001b[0m \u001b[32m━━━━━━━━━━━━━━━━━━━━\u001b[0m\u001b[37m\u001b[0m \u001b[1m11s\u001b[0m 18ms/step - accuracy: 0.9792 - loss: 0.0576 - precision: 0.9799 - recall: 0.9791 - val_accuracy: 0.9840 - val_loss: 0.0647 - val_precision: 0.9840 - val_recall: 0.9832\n",
      "Epoch 99/200\n",
      "\u001b[1m623/623\u001b[0m \u001b[32m━━━━━━━━━━━━━━━━━━━━\u001b[0m\u001b[37m\u001b[0m \u001b[1m12s\u001b[0m 19ms/step - accuracy: 0.9818 - loss: 0.0492 - precision: 0.9824 - recall: 0.9818 - val_accuracy: 0.9912 - val_loss: 0.0344 - val_precision: 0.9912 - val_recall: 0.9912\n",
      "Epoch 100/200\n",
      "\u001b[1m623/623\u001b[0m \u001b[32m━━━━━━━━━━━━━━━━━━━━\u001b[0m\u001b[37m\u001b[0m \u001b[1m12s\u001b[0m 19ms/step - accuracy: 0.9815 - loss: 0.0599 - precision: 0.9815 - recall: 0.9807 - val_accuracy: 0.9736 - val_loss: 0.0951 - val_precision: 0.9736 - val_recall: 0.9736\n",
      "Epoch 101/200\n",
      "\u001b[1m623/623\u001b[0m \u001b[32m━━━━━━━━━━━━━━━━━━━━\u001b[0m\u001b[37m\u001b[0m \u001b[1m11s\u001b[0m 18ms/step - accuracy: 0.9848 - loss: 0.0498 - precision: 0.9852 - recall: 0.9846 - val_accuracy: 0.9872 - val_loss: 0.0379 - val_precision: 0.9872 - val_recall: 0.9872\n",
      "Epoch 102/200\n",
      "\u001b[1m623/623\u001b[0m \u001b[32m━━━━━━━━━━━━━━━━━━━━\u001b[0m\u001b[37m\u001b[0m \u001b[1m12s\u001b[0m 19ms/step - accuracy: 0.9842 - loss: 0.0450 - precision: 0.9845 - recall: 0.9839 - val_accuracy: 0.9704 - val_loss: 0.1232 - val_precision: 0.9711 - val_recall: 0.9696\n",
      "Epoch 103/200\n",
      "\u001b[1m623/623\u001b[0m \u001b[32m━━━━━━━━━━━━━━━━━━━━\u001b[0m\u001b[37m\u001b[0m \u001b[1m11s\u001b[0m 18ms/step - accuracy: 0.9866 - loss: 0.0451 - precision: 0.9869 - recall: 0.9864 - val_accuracy: 0.9760 - val_loss: 0.0845 - val_precision: 0.9775 - val_recall: 0.9760\n",
      "Epoch 104/200\n",
      "\u001b[1m623/623\u001b[0m \u001b[32m━━━━━━━━━━━━━━━━━━━━\u001b[0m\u001b[37m\u001b[0m \u001b[1m12s\u001b[0m 19ms/step - accuracy: 0.9857 - loss: 0.0412 - precision: 0.9863 - recall: 0.9856 - val_accuracy: 0.9912 - val_loss: 0.0405 - val_precision: 0.9912 - val_recall: 0.9912\n",
      "Epoch 105/200\n",
      "\u001b[1m623/623\u001b[0m \u001b[32m━━━━━━━━━━━━━━━━━━━━\u001b[0m\u001b[37m\u001b[0m \u001b[1m12s\u001b[0m 19ms/step - accuracy: 0.9847 - loss: 0.0476 - precision: 0.9852 - recall: 0.9847 - val_accuracy: 0.9800 - val_loss: 0.0505 - val_precision: 0.9800 - val_recall: 0.9792\n",
      "Epoch 106/200\n",
      "\u001b[1m623/623\u001b[0m \u001b[32m━━━━━━━━━━━━━━━━━━━━\u001b[0m\u001b[37m\u001b[0m \u001b[1m11s\u001b[0m 18ms/step - accuracy: 0.9825 - loss: 0.0483 - precision: 0.9825 - recall: 0.9823 - val_accuracy: 0.9872 - val_loss: 0.0504 - val_precision: 0.9872 - val_recall: 0.9872\n",
      "Epoch 107/200\n",
      "\u001b[1m623/623\u001b[0m \u001b[32m━━━━━━━━━━━━━━━━━━━━\u001b[0m\u001b[37m\u001b[0m \u001b[1m12s\u001b[0m 19ms/step - accuracy: 0.9825 - loss: 0.0516 - precision: 0.9828 - recall: 0.9823 - val_accuracy: 0.9439 - val_loss: 0.2199 - val_precision: 0.9447 - val_recall: 0.9439\n",
      "Epoch 108/200\n",
      "\u001b[1m623/623\u001b[0m \u001b[32m━━━━━━━━━━━━━━━━━━━━\u001b[0m\u001b[37m\u001b[0m \u001b[1m12s\u001b[0m 19ms/step - accuracy: 0.9804 - loss: 0.0576 - precision: 0.9807 - recall: 0.9802 - val_accuracy: 0.9663 - val_loss: 0.1386 - val_precision: 0.9663 - val_recall: 0.9663\n",
      "Epoch 109/200\n",
      "\u001b[1m623/623\u001b[0m \u001b[32m━━━━━━━━━━━━━━━━━━━━\u001b[0m\u001b[37m\u001b[0m \u001b[1m11s\u001b[0m 18ms/step - accuracy: 0.9833 - loss: 0.0503 - precision: 0.9833 - recall: 0.9831 - val_accuracy: 0.9607 - val_loss: 0.2050 - val_precision: 0.9607 - val_recall: 0.9607\n",
      "Epoch 110/200\n",
      "\u001b[1m623/623\u001b[0m \u001b[32m━━━━━━━━━━━━━━━━━━━━\u001b[0m\u001b[37m\u001b[0m \u001b[1m12s\u001b[0m 19ms/step - accuracy: 0.9849 - loss: 0.0459 - precision: 0.9854 - recall: 0.9849 - val_accuracy: 0.9808 - val_loss: 0.0823 - val_precision: 0.9808 - val_recall: 0.9808\n",
      "Epoch 111/200\n",
      "\u001b[1m623/623\u001b[0m \u001b[32m━━━━━━━━━━━━━━━━━━━━\u001b[0m\u001b[37m\u001b[0m \u001b[1m12s\u001b[0m 19ms/step - accuracy: 0.9870 - loss: 0.0422 - precision: 0.9873 - recall: 0.9867 - val_accuracy: 0.9391 - val_loss: 0.2962 - val_precision: 0.9391 - val_recall: 0.9383\n",
      "Epoch 112/200\n",
      "\u001b[1m623/623\u001b[0m \u001b[32m━━━━━━━━━━━━━━━━━━━━\u001b[0m\u001b[37m\u001b[0m \u001b[1m11s\u001b[0m 18ms/step - accuracy: 0.9825 - loss: 0.0474 - precision: 0.9827 - recall: 0.9820 - val_accuracy: 0.8974 - val_loss: 0.4393 - val_precision: 0.8982 - val_recall: 0.8974\n",
      "Epoch 113/200\n",
      "\u001b[1m623/623\u001b[0m \u001b[32m━━━━━━━━━━━━━━━━━━━━\u001b[0m\u001b[37m\u001b[0m \u001b[1m12s\u001b[0m 19ms/step - accuracy: 0.9774 - loss: 0.0773 - precision: 0.9780 - recall: 0.9767 - val_accuracy: 0.9856 - val_loss: 0.0642 - val_precision: 0.9856 - val_recall: 0.9856\n",
      "Epoch 114/200\n",
      "\u001b[1m623/623\u001b[0m \u001b[32m━━━━━━━━━━━━━━━━━━━━\u001b[0m\u001b[37m\u001b[0m \u001b[1m11s\u001b[0m 18ms/step - accuracy: 0.9771 - loss: 0.0722 - precision: 0.9775 - recall: 0.9764 - val_accuracy: 0.9712 - val_loss: 0.1215 - val_precision: 0.9712 - val_recall: 0.9712\n",
      "Epoch 115/200\n",
      "\u001b[1m623/623\u001b[0m \u001b[32m━━━━━━━━━━━━━━━━━━━━\u001b[0m\u001b[37m\u001b[0m \u001b[1m12s\u001b[0m 19ms/step - accuracy: 0.9892 - loss: 0.0289 - precision: 0.9892 - recall: 0.9892 - val_accuracy: 0.9431 - val_loss: 0.2778 - val_precision: 0.9454 - val_recall: 0.9431\n",
      "Epoch 116/200\n",
      "\u001b[1m623/623\u001b[0m \u001b[32m━━━━━━━━━━━━━━━━━━━━\u001b[0m\u001b[37m\u001b[0m \u001b[1m12s\u001b[0m 19ms/step - accuracy: 0.9862 - loss: 0.0425 - precision: 0.9862 - recall: 0.9858 - val_accuracy: 0.9848 - val_loss: 0.0624 - val_precision: 0.9848 - val_recall: 0.9848\n",
      "Epoch 117/200\n",
      "\u001b[1m623/623\u001b[0m \u001b[32m━━━━━━━━━━━━━━━━━━━━\u001b[0m\u001b[37m\u001b[0m \u001b[1m11s\u001b[0m 18ms/step - accuracy: 0.9866 - loss: 0.0404 - precision: 0.9866 - recall: 0.9864 - val_accuracy: 0.9888 - val_loss: 0.0383 - val_precision: 0.9888 - val_recall: 0.9888\n",
      "Epoch 118/200\n",
      "\u001b[1m623/623\u001b[0m \u001b[32m━━━━━━━━━━━━━━━━━━━━\u001b[0m\u001b[37m\u001b[0m \u001b[1m12s\u001b[0m 19ms/step - accuracy: 0.9862 - loss: 0.0432 - precision: 0.9863 - recall: 0.9859 - val_accuracy: 0.9928 - val_loss: 0.0383 - val_precision: 0.9928 - val_recall: 0.9928\n",
      "Epoch 119/200\n",
      "\u001b[1m623/623\u001b[0m \u001b[32m━━━━━━━━━━━━━━━━━━━━\u001b[0m\u001b[37m\u001b[0m \u001b[1m12s\u001b[0m 19ms/step - accuracy: 0.9880 - loss: 0.0363 - precision: 0.9881 - recall: 0.9873 - val_accuracy: 0.9896 - val_loss: 0.0374 - val_precision: 0.9904 - val_recall: 0.9896\n",
      "Epoch 120/200\n",
      "\u001b[1m623/623\u001b[0m \u001b[32m━━━━━━━━━━━━━━━━━━━━\u001b[0m\u001b[37m\u001b[0m \u001b[1m11s\u001b[0m 18ms/step - accuracy: 0.9806 - loss: 0.0608 - precision: 0.9807 - recall: 0.9798 - val_accuracy: 0.9824 - val_loss: 0.0598 - val_precision: 0.9824 - val_recall: 0.9824\n",
      "Epoch 121/200\n",
      "\u001b[1m623/623\u001b[0m \u001b[32m━━━━━━━━━━━━━━━━━━━━\u001b[0m\u001b[37m\u001b[0m \u001b[1m12s\u001b[0m 19ms/step - accuracy: 0.9893 - loss: 0.0305 - precision: 0.9893 - recall: 0.9893 - val_accuracy: 0.9271 - val_loss: 0.3002 - val_precision: 0.9293 - val_recall: 0.9271\n",
      "Epoch 122/200\n",
      "\u001b[1m623/623\u001b[0m \u001b[32m━━━━━━━━━━━━━━━━━━━━\u001b[0m\u001b[37m\u001b[0m \u001b[1m12s\u001b[0m 19ms/step - accuracy: 0.9828 - loss: 0.0590 - precision: 0.9832 - recall: 0.9822 - val_accuracy: 0.9752 - val_loss: 0.0754 - val_precision: 0.9759 - val_recall: 0.9752\n",
      "Epoch 123/200\n",
      "\u001b[1m623/623\u001b[0m \u001b[32m━━━━━━━━━━━━━━━━━━━━\u001b[0m\u001b[37m\u001b[0m \u001b[1m11s\u001b[0m 18ms/step - accuracy: 0.9854 - loss: 0.0495 - precision: 0.9858 - recall: 0.9851 - val_accuracy: 0.9808 - val_loss: 0.1193 - val_precision: 0.9823 - val_recall: 0.9808\n",
      "Epoch 124/200\n",
      "\u001b[1m623/623\u001b[0m \u001b[32m━━━━━━━━━━━━━━━━━━━━\u001b[0m\u001b[37m\u001b[0m \u001b[1m12s\u001b[0m 19ms/step - accuracy: 0.9862 - loss: 0.0398 - precision: 0.9871 - recall: 0.9859 - val_accuracy: 0.9655 - val_loss: 0.1259 - val_precision: 0.9663 - val_recall: 0.9655\n",
      "Epoch 125/200\n",
      "\u001b[1m623/623\u001b[0m \u001b[32m━━━━━━━━━━━━━━━━━━━━\u001b[0m\u001b[37m\u001b[0m \u001b[1m11s\u001b[0m 17ms/step - accuracy: 0.9926 - loss: 0.0254 - precision: 0.9930 - recall: 0.9924 - val_accuracy: 0.9471 - val_loss: 0.2156 - val_precision: 0.9486 - val_recall: 0.9471\n",
      "Epoch 126/200\n",
      "\u001b[1m623/623\u001b[0m \u001b[32m━━━━━━━━━━━━━━━━━━━━\u001b[0m\u001b[37m\u001b[0m \u001b[1m12s\u001b[0m 18ms/step - accuracy: 0.9853 - loss: 0.0431 - precision: 0.9860 - recall: 0.9853 - val_accuracy: 0.9888 - val_loss: 0.0390 - val_precision: 0.9888 - val_recall: 0.9888\n",
      "Epoch 127/200\n",
      "\u001b[1m623/623\u001b[0m \u001b[32m━━━━━━━━━━━━━━━━━━━━\u001b[0m\u001b[37m\u001b[0m \u001b[1m12s\u001b[0m 18ms/step - accuracy: 0.9814 - loss: 0.0655 - precision: 0.9816 - recall: 0.9805 - val_accuracy: 0.9904 - val_loss: 0.0427 - val_precision: 0.9904 - val_recall: 0.9904\n",
      "Epoch 128/200\n",
      "\u001b[1m623/623\u001b[0m \u001b[32m━━━━━━━━━━━━━━━━━━━━\u001b[0m\u001b[37m\u001b[0m \u001b[1m11s\u001b[0m 17ms/step - accuracy: 0.9857 - loss: 0.0454 - precision: 0.9861 - recall: 0.9857 - val_accuracy: 0.9928 - val_loss: 0.0217 - val_precision: 0.9928 - val_recall: 0.9920\n",
      "Epoch 129/200\n",
      "\u001b[1m623/623\u001b[0m \u001b[32m━━━━━━━━━━━━━━━━━━━━\u001b[0m\u001b[37m\u001b[0m \u001b[1m11s\u001b[0m 18ms/step - accuracy: 0.9895 - loss: 0.0304 - precision: 0.9898 - recall: 0.9895 - val_accuracy: 0.9864 - val_loss: 0.0393 - val_precision: 0.9864 - val_recall: 0.9856\n",
      "Epoch 130/200\n",
      "\u001b[1m623/623\u001b[0m \u001b[32m━━━━━━━━━━━━━━━━━━━━\u001b[0m\u001b[37m\u001b[0m \u001b[1m11s\u001b[0m 18ms/step - accuracy: 0.9892 - loss: 0.0320 - precision: 0.9895 - recall: 0.9890 - val_accuracy: 0.9976 - val_loss: 0.0136 - val_precision: 0.9976 - val_recall: 0.9976\n",
      "Epoch 131/200\n",
      "\u001b[1m623/623\u001b[0m \u001b[32m━━━━━━━━━━━━━━━━━━━━\u001b[0m\u001b[37m\u001b[0m \u001b[1m11s\u001b[0m 17ms/step - accuracy: 0.9865 - loss: 0.0459 - precision: 0.9868 - recall: 0.9861 - val_accuracy: 0.9848 - val_loss: 0.0535 - val_precision: 0.9848 - val_recall: 0.9848\n",
      "Epoch 132/200\n",
      "\u001b[1m623/623\u001b[0m \u001b[32m━━━━━━━━━━━━━━━━━━━━\u001b[0m\u001b[37m\u001b[0m \u001b[1m12s\u001b[0m 19ms/step - accuracy: 0.9857 - loss: 0.0390 - precision: 0.9859 - recall: 0.9856 - val_accuracy: 0.9904 - val_loss: 0.0339 - val_precision: 0.9904 - val_recall: 0.9904\n",
      "Epoch 133/200\n",
      "\u001b[1m623/623\u001b[0m \u001b[32m━━━━━━━━━━━━━━━━━━━━\u001b[0m\u001b[37m\u001b[0m \u001b[1m12s\u001b[0m 19ms/step - accuracy: 0.9843 - loss: 0.0530 - precision: 0.9848 - recall: 0.9836 - val_accuracy: 0.9864 - val_loss: 0.0423 - val_precision: 0.9864 - val_recall: 0.9864\n",
      "Epoch 134/200\n",
      "\u001b[1m623/623\u001b[0m \u001b[32m━━━━━━━━━━━━━━━━━━━━\u001b[0m\u001b[37m\u001b[0m \u001b[1m11s\u001b[0m 17ms/step - accuracy: 0.9882 - loss: 0.0359 - precision: 0.9882 - recall: 0.9879 - val_accuracy: 0.9704 - val_loss: 0.1116 - val_precision: 0.9711 - val_recall: 0.9696\n",
      "Epoch 135/200\n",
      "\u001b[1m623/623\u001b[0m \u001b[32m━━━━━━━━━━━━━━━━━━━━\u001b[0m\u001b[37m\u001b[0m \u001b[1m11s\u001b[0m 18ms/step - accuracy: 0.9870 - loss: 0.0398 - precision: 0.9873 - recall: 0.9870 - val_accuracy: 0.9856 - val_loss: 0.0537 - val_precision: 0.9856 - val_recall: 0.9856\n",
      "Epoch 136/200\n",
      "\u001b[1m623/623\u001b[0m \u001b[32m━━━━━━━━━━━━━━━━━━━━\u001b[0m\u001b[37m\u001b[0m \u001b[1m12s\u001b[0m 18ms/step - accuracy: 0.9886 - loss: 0.0396 - precision: 0.9887 - recall: 0.9880 - val_accuracy: 0.9848 - val_loss: 0.0451 - val_precision: 0.9848 - val_recall: 0.9848\n",
      "Epoch 137/200\n",
      "\u001b[1m623/623\u001b[0m \u001b[32m━━━━━━━━━━━━━━━━━━━━\u001b[0m\u001b[37m\u001b[0m \u001b[1m11s\u001b[0m 17ms/step - accuracy: 0.9922 - loss: 0.0236 - precision: 0.9924 - recall: 0.9921 - val_accuracy: 0.9824 - val_loss: 0.0994 - val_precision: 0.9824 - val_recall: 0.9824\n",
      "Epoch 138/200\n",
      "\u001b[1m623/623\u001b[0m \u001b[32m━━━━━━━━━━━━━━━━━━━━\u001b[0m\u001b[37m\u001b[0m \u001b[1m12s\u001b[0m 19ms/step - accuracy: 0.9860 - loss: 0.0452 - precision: 0.9861 - recall: 0.9857 - val_accuracy: 0.9880 - val_loss: 0.0408 - val_precision: 0.9880 - val_recall: 0.9880\n",
      "Epoch 139/200\n",
      "\u001b[1m623/623\u001b[0m \u001b[32m━━━━━━━━━━━━━━━━━━━━\u001b[0m\u001b[37m\u001b[0m \u001b[1m11s\u001b[0m 17ms/step - accuracy: 0.9904 - loss: 0.0356 - precision: 0.9904 - recall: 0.9904 - val_accuracy: 0.9407 - val_loss: 0.3620 - val_precision: 0.9407 - val_recall: 0.9399\n",
      "Epoch 140/200\n",
      "\u001b[1m623/623\u001b[0m \u001b[32m━━━━━━━━━━━━━━━━━━━━\u001b[0m\u001b[37m\u001b[0m \u001b[1m11s\u001b[0m 18ms/step - accuracy: 0.9886 - loss: 0.0332 - precision: 0.9889 - recall: 0.9883 - val_accuracy: 0.9800 - val_loss: 0.0892 - val_precision: 0.9808 - val_recall: 0.9800\n",
      "Epoch 141/200\n",
      "\u001b[1m623/623\u001b[0m \u001b[32m━━━━━━━━━━━━━━━━━━━━\u001b[0m\u001b[37m\u001b[0m \u001b[1m12s\u001b[0m 18ms/step - accuracy: 0.9864 - loss: 0.0435 - precision: 0.9866 - recall: 0.9856 - val_accuracy: 0.9688 - val_loss: 0.1321 - val_precision: 0.9688 - val_recall: 0.9688\n",
      "Epoch 142/200\n",
      "\u001b[1m623/623\u001b[0m \u001b[32m━━━━━━━━━━━━━━━━━━━━\u001b[0m\u001b[37m\u001b[0m \u001b[1m11s\u001b[0m 17ms/step - accuracy: 0.9930 - loss: 0.0232 - precision: 0.9933 - recall: 0.9930 - val_accuracy: 0.9800 - val_loss: 0.0613 - val_precision: 0.9800 - val_recall: 0.9792\n",
      "Epoch 143/200\n",
      "\u001b[1m623/623\u001b[0m \u001b[32m━━━━━━━━━━━━━━━━━━━━\u001b[0m\u001b[37m\u001b[0m \u001b[1m11s\u001b[0m 18ms/step - accuracy: 0.9879 - loss: 0.0366 - precision: 0.9879 - recall: 0.9879 - val_accuracy: 0.9944 - val_loss: 0.0236 - val_precision: 0.9944 - val_recall: 0.9944\n",
      "Epoch 144/200\n",
      "\u001b[1m623/623\u001b[0m \u001b[32m━━━━━━━━━━━━━━━━━━━━\u001b[0m\u001b[37m\u001b[0m \u001b[1m12s\u001b[0m 18ms/step - accuracy: 0.9884 - loss: 0.0331 - precision: 0.9884 - recall: 0.9880 - val_accuracy: 0.9976 - val_loss: 0.0054 - val_precision: 0.9984 - val_recall: 0.9976\n",
      "Epoch 145/200\n",
      "\u001b[1m623/623\u001b[0m \u001b[32m━━━━━━━━━━━━━━━━━━━━\u001b[0m\u001b[37m\u001b[0m \u001b[1m11s\u001b[0m 17ms/step - accuracy: 0.9863 - loss: 0.0474 - precision: 0.9867 - recall: 0.9862 - val_accuracy: 0.9904 - val_loss: 0.0248 - val_precision: 0.9904 - val_recall: 0.9904\n",
      "Epoch 146/200\n",
      "\u001b[1m623/623\u001b[0m \u001b[32m━━━━━━━━━━━━━━━━━━━━\u001b[0m\u001b[37m\u001b[0m \u001b[1m11s\u001b[0m 18ms/step - accuracy: 0.9867 - loss: 0.0423 - precision: 0.9869 - recall: 0.9867 - val_accuracy: 0.9912 - val_loss: 0.0473 - val_precision: 0.9912 - val_recall: 0.9912\n",
      "Epoch 147/200\n",
      "\u001b[1m623/623\u001b[0m \u001b[32m━━━━━━━━━━━━━━━━━━━━\u001b[0m\u001b[37m\u001b[0m \u001b[1m12s\u001b[0m 19ms/step - accuracy: 0.9822 - loss: 0.0575 - precision: 0.9834 - recall: 0.9819 - val_accuracy: 0.9808 - val_loss: 0.0611 - val_precision: 0.9808 - val_recall: 0.9808\n",
      "Epoch 148/200\n",
      "\u001b[1m623/623\u001b[0m \u001b[32m━━━━━━━━━━━━━━━━━━━━\u001b[0m\u001b[37m\u001b[0m \u001b[1m11s\u001b[0m 17ms/step - accuracy: 0.9909 - loss: 0.0253 - precision: 0.9912 - recall: 0.9907 - val_accuracy: 0.9527 - val_loss: 0.2435 - val_precision: 0.9535 - val_recall: 0.9527\n",
      "Epoch 149/200\n",
      "\u001b[1m623/623\u001b[0m \u001b[32m━━━━━━━━━━━━━━━━━━━━\u001b[0m\u001b[37m\u001b[0m \u001b[1m12s\u001b[0m 18ms/step - accuracy: 0.9801 - loss: 0.0663 - precision: 0.9805 - recall: 0.9798 - val_accuracy: 0.9607 - val_loss: 0.1867 - val_precision: 0.9615 - val_recall: 0.9607\n",
      "Epoch 150/200\n",
      "\u001b[1m623/623\u001b[0m \u001b[32m━━━━━━━━━━━━━━━━━━━━\u001b[0m\u001b[37m\u001b[0m \u001b[1m12s\u001b[0m 18ms/step - accuracy: 0.9884 - loss: 0.0334 - precision: 0.9885 - recall: 0.9883 - val_accuracy: 0.9864 - val_loss: 0.0397 - val_precision: 0.9864 - val_recall: 0.9864\n",
      "Epoch 151/200\n",
      "\u001b[1m623/623\u001b[0m \u001b[32m━━━━━━━━━━━━━━━━━━━━\u001b[0m\u001b[37m\u001b[0m \u001b[1m11s\u001b[0m 17ms/step - accuracy: 0.9914 - loss: 0.0258 - precision: 0.9915 - recall: 0.9913 - val_accuracy: 0.9944 - val_loss: 0.0256 - val_precision: 0.9944 - val_recall: 0.9944\n",
      "Epoch 152/200\n",
      "\u001b[1m623/623\u001b[0m \u001b[32m━━━━━━━━━━━━━━━━━━━━\u001b[0m\u001b[37m\u001b[0m \u001b[1m12s\u001b[0m 19ms/step - accuracy: 0.9875 - loss: 0.0354 - precision: 0.9875 - recall: 0.9872 - val_accuracy: 0.9824 - val_loss: 0.0603 - val_precision: 0.9824 - val_recall: 0.9816\n",
      "Epoch 153/200\n",
      "\u001b[1m623/623\u001b[0m \u001b[32m━━━━━━━━━━━━━━━━━━━━\u001b[0m\u001b[37m\u001b[0m \u001b[1m11s\u001b[0m 17ms/step - accuracy: 0.9851 - loss: 0.0453 - precision: 0.9855 - recall: 0.9846 - val_accuracy: 0.9872 - val_loss: 0.0309 - val_precision: 0.9880 - val_recall: 0.9872\n",
      "Epoch 154/200\n",
      "\u001b[1m623/623\u001b[0m \u001b[32m━━━━━━━━━━━━━━━━━━━━\u001b[0m\u001b[37m\u001b[0m \u001b[1m11s\u001b[0m 18ms/step - accuracy: 0.9918 - loss: 0.0249 - precision: 0.9920 - recall: 0.9917 - val_accuracy: 0.9896 - val_loss: 0.0564 - val_precision: 0.9896 - val_recall: 0.9896\n",
      "Epoch 155/200\n",
      "\u001b[1m623/623\u001b[0m \u001b[32m━━━━━━━━━━━━━━━━━━━━\u001b[0m\u001b[37m\u001b[0m \u001b[1m12s\u001b[0m 19ms/step - accuracy: 0.9895 - loss: 0.0312 - precision: 0.9895 - recall: 0.9895 - val_accuracy: 0.9872 - val_loss: 0.0480 - val_precision: 0.9872 - val_recall: 0.9872\n",
      "Epoch 156/200\n",
      "\u001b[1m623/623\u001b[0m \u001b[32m━━━━━━━━━━━━━━━━━━━━\u001b[0m\u001b[37m\u001b[0m \u001b[1m11s\u001b[0m 18ms/step - accuracy: 0.9915 - loss: 0.0312 - precision: 0.9916 - recall: 0.9913 - val_accuracy: 0.9527 - val_loss: 0.1872 - val_precision: 0.9527 - val_recall: 0.9519\n",
      "Epoch 157/200\n",
      "\u001b[1m623/623\u001b[0m \u001b[32m━━━━━━━━━━━━━━━━━━━━\u001b[0m\u001b[37m\u001b[0m \u001b[1m12s\u001b[0m 19ms/step - accuracy: 0.9887 - loss: 0.0344 - precision: 0.9887 - recall: 0.9886 - val_accuracy: 0.9760 - val_loss: 0.1021 - val_precision: 0.9767 - val_recall: 0.9760\n",
      "Epoch 158/200\n",
      "\u001b[1m623/623\u001b[0m \u001b[32m━━━━━━━━━━━━━━━━━━━━\u001b[0m\u001b[37m\u001b[0m \u001b[1m12s\u001b[0m 19ms/step - accuracy: 0.9867 - loss: 0.0407 - precision: 0.9869 - recall: 0.9867 - val_accuracy: 0.9856 - val_loss: 0.0606 - val_precision: 0.9856 - val_recall: 0.9856\n",
      "Epoch 159/200\n",
      "\u001b[1m623/623\u001b[0m \u001b[32m━━━━━━━━━━━━━━━━━━━━\u001b[0m\u001b[37m\u001b[0m \u001b[1m11s\u001b[0m 17ms/step - accuracy: 0.9908 - loss: 0.0296 - precision: 0.9911 - recall: 0.9908 - val_accuracy: 0.9888 - val_loss: 0.0322 - val_precision: 0.9896 - val_recall: 0.9888\n",
      "Epoch 160/200\n",
      "\u001b[1m623/623\u001b[0m \u001b[32m━━━━━━━━━━━━━━━━━━━━\u001b[0m\u001b[37m\u001b[0m \u001b[1m12s\u001b[0m 18ms/step - accuracy: 0.9905 - loss: 0.0308 - precision: 0.9907 - recall: 0.9904 - val_accuracy: 0.9511 - val_loss: 0.1881 - val_precision: 0.9511 - val_recall: 0.9511\n",
      "Epoch 161/200\n",
      "\u001b[1m623/623\u001b[0m \u001b[32m━━━━━━━━━━━━━━━━━━━━\u001b[0m\u001b[37m\u001b[0m \u001b[1m11s\u001b[0m 18ms/step - accuracy: 0.9916 - loss: 0.0289 - precision: 0.9916 - recall: 0.9913 - val_accuracy: 0.9800 - val_loss: 0.0632 - val_precision: 0.9800 - val_recall: 0.9800\n",
      "Epoch 162/200\n",
      "\u001b[1m623/623\u001b[0m \u001b[32m━━━━━━━━━━━━━━━━━━━━\u001b[0m\u001b[37m\u001b[0m \u001b[1m11s\u001b[0m 17ms/step - accuracy: 0.9917 - loss: 0.0255 - precision: 0.9917 - recall: 0.9916 - val_accuracy: 0.9736 - val_loss: 0.1047 - val_precision: 0.9736 - val_recall: 0.9736\n",
      "Epoch 163/200\n",
      "\u001b[1m623/623\u001b[0m \u001b[32m━━━━━━━━━━━━━━━━━━━━\u001b[0m\u001b[37m\u001b[0m \u001b[1m11s\u001b[0m 18ms/step - accuracy: 0.9925 - loss: 0.0254 - precision: 0.9927 - recall: 0.9924 - val_accuracy: 0.9191 - val_loss: 0.4684 - val_precision: 0.9191 - val_recall: 0.9191\n",
      "Epoch 164/200\n",
      "\u001b[1m623/623\u001b[0m \u001b[32m━━━━━━━━━━━━━━━━━━━━\u001b[0m\u001b[37m\u001b[0m \u001b[1m11s\u001b[0m 18ms/step - accuracy: 0.9903 - loss: 0.0261 - precision: 0.9912 - recall: 0.9903 - val_accuracy: 0.9896 - val_loss: 0.0441 - val_precision: 0.9896 - val_recall: 0.9896\n",
      "Epoch 165/200\n",
      "\u001b[1m623/623\u001b[0m \u001b[32m━━━━━━━━━━━━━━━━━━━━\u001b[0m\u001b[37m\u001b[0m \u001b[1m11s\u001b[0m 17ms/step - accuracy: 0.9889 - loss: 0.0361 - precision: 0.9891 - recall: 0.9886 - val_accuracy: 0.9599 - val_loss: 0.1827 - val_precision: 0.9607 - val_recall: 0.9599\n",
      "Epoch 166/200\n",
      "\u001b[1m623/623\u001b[0m \u001b[32m━━━━━━━━━━━━━━━━━━━━\u001b[0m\u001b[37m\u001b[0m \u001b[1m11s\u001b[0m 18ms/step - accuracy: 0.9911 - loss: 0.0236 - precision: 0.9911 - recall: 0.9911 - val_accuracy: 0.9760 - val_loss: 0.0942 - val_precision: 0.9767 - val_recall: 0.9760\n",
      "Epoch 167/200\n",
      "\u001b[1m623/623\u001b[0m \u001b[32m━━━━━━━━━━━━━━━━━━━━\u001b[0m\u001b[37m\u001b[0m \u001b[1m11s\u001b[0m 17ms/step - accuracy: 0.9879 - loss: 0.0391 - precision: 0.9880 - recall: 0.9879 - val_accuracy: 0.9647 - val_loss: 0.1431 - val_precision: 0.9647 - val_recall: 0.9647\n",
      "Epoch 168/200\n",
      "\u001b[1m623/623\u001b[0m \u001b[32m━━━━━━━━━━━━━━━━━━━━\u001b[0m\u001b[37m\u001b[0m \u001b[1m11s\u001b[0m 18ms/step - accuracy: 0.9903 - loss: 0.0289 - precision: 0.9905 - recall: 0.9900 - val_accuracy: 0.9607 - val_loss: 0.1564 - val_precision: 0.9607 - val_recall: 0.9607\n",
      "Epoch 169/200\n",
      "\u001b[1m623/623\u001b[0m \u001b[32m━━━━━━━━━━━━━━━━━━━━\u001b[0m\u001b[37m\u001b[0m \u001b[1m11s\u001b[0m 18ms/step - accuracy: 0.9855 - loss: 0.0389 - precision: 0.9856 - recall: 0.9852 - val_accuracy: 0.9671 - val_loss: 0.0972 - val_precision: 0.9671 - val_recall: 0.9671\n",
      "Epoch 170/200\n",
      "\u001b[1m623/623\u001b[0m \u001b[32m━━━━━━━━━━━━━━━━━━━━\u001b[0m\u001b[37m\u001b[0m \u001b[1m11s\u001b[0m 17ms/step - accuracy: 0.9836 - loss: 0.0533 - precision: 0.9839 - recall: 0.9832 - val_accuracy: 0.9696 - val_loss: 0.1396 - val_precision: 0.9696 - val_recall: 0.9696\n",
      "Epoch 171/200\n",
      "\u001b[1m623/623\u001b[0m \u001b[32m━━━━━━━━━━━━━━━━━━━━\u001b[0m\u001b[37m\u001b[0m \u001b[1m11s\u001b[0m 18ms/step - accuracy: 0.9899 - loss: 0.0273 - precision: 0.9903 - recall: 0.9899 - val_accuracy: 0.9736 - val_loss: 0.0886 - val_precision: 0.9743 - val_recall: 0.9736\n",
      "Epoch 172/200\n",
      "\u001b[1m623/623\u001b[0m \u001b[32m━━━━━━━━━━━━━━━━━━━━\u001b[0m\u001b[37m\u001b[0m \u001b[1m11s\u001b[0m 18ms/step - accuracy: 0.9895 - loss: 0.0259 - precision: 0.9897 - recall: 0.9895 - val_accuracy: 0.9864 - val_loss: 0.0535 - val_precision: 0.9864 - val_recall: 0.9864\n",
      "Epoch 173/200\n",
      "\u001b[1m623/623\u001b[0m \u001b[32m━━━━━━━━━━━━━━━━━━━━\u001b[0m\u001b[37m\u001b[0m \u001b[1m11s\u001b[0m 17ms/step - accuracy: 0.9942 - loss: 0.0207 - precision: 0.9942 - recall: 0.9942 - val_accuracy: 0.9848 - val_loss: 0.0542 - val_precision: 0.9848 - val_recall: 0.9848\n",
      "Epoch 174/200\n",
      "\u001b[1m623/623\u001b[0m \u001b[32m━━━━━━━━━━━━━━━━━━━━\u001b[0m\u001b[37m\u001b[0m \u001b[1m11s\u001b[0m 18ms/step - accuracy: 0.9924 - loss: 0.0257 - precision: 0.9924 - recall: 0.9923 - val_accuracy: 0.9784 - val_loss: 0.0691 - val_precision: 0.9783 - val_recall: 0.9776\n",
      "Epoch 175/200\n",
      "\u001b[1m623/623\u001b[0m \u001b[32m━━━━━━━━━━━━━━━━━━━━\u001b[0m\u001b[37m\u001b[0m \u001b[1m12s\u001b[0m 18ms/step - accuracy: 0.9905 - loss: 0.0255 - precision: 0.9905 - recall: 0.9904 - val_accuracy: 0.9768 - val_loss: 0.1059 - val_precision: 0.9791 - val_recall: 0.9768\n",
      "Epoch 176/200\n",
      "\u001b[1m623/623\u001b[0m \u001b[32m━━━━━━━━━━━━━━━━━━━━\u001b[0m\u001b[37m\u001b[0m \u001b[1m11s\u001b[0m 17ms/step - accuracy: 0.9885 - loss: 0.0382 - precision: 0.9889 - recall: 0.9882 - val_accuracy: 0.9567 - val_loss: 0.2486 - val_precision: 0.9567 - val_recall: 0.9567\n",
      "Epoch 177/200\n",
      "\u001b[1m623/623\u001b[0m \u001b[32m━━━━━━━━━━━━━━━━━━━━\u001b[0m\u001b[37m\u001b[0m \u001b[1m11s\u001b[0m 18ms/step - accuracy: 0.9921 - loss: 0.0316 - precision: 0.9921 - recall: 0.9921 - val_accuracy: 0.9744 - val_loss: 0.0966 - val_precision: 0.9744 - val_recall: 0.9744\n",
      "Epoch 178/200\n",
      "\u001b[1m623/623\u001b[0m \u001b[32m━━━━━━━━━━━━━━━━━━━━\u001b[0m\u001b[37m\u001b[0m \u001b[1m11s\u001b[0m 18ms/step - accuracy: 0.9913 - loss: 0.0246 - precision: 0.9917 - recall: 0.9911 - val_accuracy: 0.9832 - val_loss: 0.0699 - val_precision: 0.9832 - val_recall: 0.9824\n",
      "Epoch 179/200\n",
      "\u001b[1m623/623\u001b[0m \u001b[32m━━━━━━━━━━━━━━━━━━━━\u001b[0m\u001b[37m\u001b[0m \u001b[1m11s\u001b[0m 17ms/step - accuracy: 0.9891 - loss: 0.0299 - precision: 0.9898 - recall: 0.9887 - val_accuracy: 0.9776 - val_loss: 0.0750 - val_precision: 0.9775 - val_recall: 0.9768\n",
      "Epoch 180/200\n",
      "\u001b[1m623/623\u001b[0m \u001b[32m━━━━━━━━━━━━━━━━━━━━\u001b[0m\u001b[37m\u001b[0m \u001b[1m11s\u001b[0m 18ms/step - accuracy: 0.9912 - loss: 0.0318 - precision: 0.9914 - recall: 0.9912 - val_accuracy: 0.9888 - val_loss: 0.0412 - val_precision: 0.9888 - val_recall: 0.9880\n",
      "Epoch 181/200\n",
      "\u001b[1m623/623\u001b[0m \u001b[32m━━━━━━━━━━━━━━━━━━━━\u001b[0m\u001b[37m\u001b[0m \u001b[1m11s\u001b[0m 17ms/step - accuracy: 0.9903 - loss: 0.0349 - precision: 0.9905 - recall: 0.9899 - val_accuracy: 0.9952 - val_loss: 0.0098 - val_precision: 0.9960 - val_recall: 0.9952\n",
      "Epoch 182/200\n",
      "\u001b[1m623/623\u001b[0m \u001b[32m━━━━━━━━━━━━━━━━━━━━\u001b[0m\u001b[37m\u001b[0m \u001b[1m11s\u001b[0m 18ms/step - accuracy: 0.9896 - loss: 0.0339 - precision: 0.9896 - recall: 0.9895 - val_accuracy: 0.9848 - val_loss: 0.0455 - val_precision: 0.9848 - val_recall: 0.9848\n",
      "Epoch 183/200\n",
      "\u001b[1m623/623\u001b[0m \u001b[32m━━━━━━━━━━━━━━━━━━━━\u001b[0m\u001b[37m\u001b[0m \u001b[1m12s\u001b[0m 18ms/step - accuracy: 0.9935 - loss: 0.0237 - precision: 0.9935 - recall: 0.9931 - val_accuracy: 0.9920 - val_loss: 0.0375 - val_precision: 0.9920 - val_recall: 0.9920\n",
      "Epoch 184/200\n",
      "\u001b[1m623/623\u001b[0m \u001b[32m━━━━━━━━━━━━━━━━━━━━\u001b[0m\u001b[37m\u001b[0m \u001b[1m11s\u001b[0m 17ms/step - accuracy: 0.9884 - loss: 0.0339 - precision: 0.9884 - recall: 0.9884 - val_accuracy: 0.9880 - val_loss: 0.0400 - val_precision: 0.9880 - val_recall: 0.9872\n",
      "Epoch 185/200\n",
      "\u001b[1m623/623\u001b[0m \u001b[32m━━━━━━━━━━━━━━━━━━━━\u001b[0m\u001b[37m\u001b[0m \u001b[1m12s\u001b[0m 18ms/step - accuracy: 0.9920 - loss: 0.0379 - precision: 0.9924 - recall: 0.9919 - val_accuracy: 0.9928 - val_loss: 0.0177 - val_precision: 0.9936 - val_recall: 0.9928\n",
      "Epoch 186/200\n",
      "\u001b[1m623/623\u001b[0m \u001b[32m━━━━━━━━━━━━━━━━━━━━\u001b[0m\u001b[37m\u001b[0m \u001b[1m11s\u001b[0m 18ms/step - accuracy: 0.9948 - loss: 0.0185 - precision: 0.9949 - recall: 0.9948 - val_accuracy: 0.9760 - val_loss: 0.0729 - val_precision: 0.9760 - val_recall: 0.9760\n",
      "Epoch 187/200\n",
      "\u001b[1m623/623\u001b[0m \u001b[32m━━━━━━━━━━━━━━━━━━━━\u001b[0m\u001b[37m\u001b[0m \u001b[1m11s\u001b[0m 17ms/step - accuracy: 0.9891 - loss: 0.0329 - precision: 0.9892 - recall: 0.9890 - val_accuracy: 0.9944 - val_loss: 0.0233 - val_precision: 0.9944 - val_recall: 0.9944\n",
      "Epoch 188/200\n",
      "\u001b[1m623/623\u001b[0m \u001b[32m━━━━━━━━━━━━━━━━━━━━\u001b[0m\u001b[37m\u001b[0m \u001b[1m12s\u001b[0m 19ms/step - accuracy: 0.9878 - loss: 0.0415 - precision: 0.9880 - recall: 0.9876 - val_accuracy: 0.9808 - val_loss: 0.0683 - val_precision: 0.9808 - val_recall: 0.9808\n",
      "Epoch 189/200\n",
      "\u001b[1m623/623\u001b[0m \u001b[32m━━━━━━━━━━━━━━━━━━━━\u001b[0m\u001b[37m\u001b[0m \u001b[1m12s\u001b[0m 18ms/step - accuracy: 0.9946 - loss: 0.0146 - precision: 0.9946 - recall: 0.9946 - val_accuracy: 0.9808 - val_loss: 0.1086 - val_precision: 0.9808 - val_recall: 0.9808\n",
      "Epoch 190/200\n",
      "\u001b[1m623/623\u001b[0m \u001b[32m━━━━━━━━━━━━━━━━━━━━\u001b[0m\u001b[37m\u001b[0m \u001b[1m11s\u001b[0m 17ms/step - accuracy: 0.9871 - loss: 0.0450 - precision: 0.9872 - recall: 0.9870 - val_accuracy: 0.9928 - val_loss: 0.0453 - val_precision: 0.9928 - val_recall: 0.9928\n",
      "Epoch 191/200\n",
      "\u001b[1m623/623\u001b[0m \u001b[32m━━━━━━━━━━━━━━━━━━━━\u001b[0m\u001b[37m\u001b[0m \u001b[1m11s\u001b[0m 18ms/step - accuracy: 0.9939 - loss: 0.0252 - precision: 0.9939 - recall: 0.9936 - val_accuracy: 0.9960 - val_loss: 0.0122 - val_precision: 0.9960 - val_recall: 0.9960\n",
      "Epoch 192/200\n",
      "\u001b[1m623/623\u001b[0m \u001b[32m━━━━━━━━━━━━━━━━━━━━\u001b[0m\u001b[37m\u001b[0m \u001b[1m11s\u001b[0m 18ms/step - accuracy: 0.9879 - loss: 0.0428 - precision: 0.9884 - recall: 0.9878 - val_accuracy: 0.9928 - val_loss: 0.0263 - val_precision: 0.9928 - val_recall: 0.9928\n",
      "Epoch 193/200\n",
      "\u001b[1m623/623\u001b[0m \u001b[32m━━━━━━━━━━━━━━━━━━━━\u001b[0m\u001b[37m\u001b[0m \u001b[1m11s\u001b[0m 17ms/step - accuracy: 0.9951 - loss: 0.0173 - precision: 0.9952 - recall: 0.9951 - val_accuracy: 0.9712 - val_loss: 0.0837 - val_precision: 0.9712 - val_recall: 0.9712\n",
      "Epoch 194/200\n",
      "\u001b[1m623/623\u001b[0m \u001b[32m━━━━━━━━━━━━━━━━━━━━\u001b[0m\u001b[37m\u001b[0m \u001b[1m11s\u001b[0m 18ms/step - accuracy: 0.9927 - loss: 0.0271 - precision: 0.9927 - recall: 0.9927 - val_accuracy: 0.9896 - val_loss: 0.0322 - val_precision: 0.9896 - val_recall: 0.9896\n",
      "Epoch 195/200\n",
      "\u001b[1m623/623\u001b[0m \u001b[32m━━━━━━━━━━━━━━━━━━━━\u001b[0m\u001b[37m\u001b[0m \u001b[1m11s\u001b[0m 17ms/step - accuracy: 0.9929 - loss: 0.0224 - precision: 0.9930 - recall: 0.9929 - val_accuracy: 0.9896 - val_loss: 0.0490 - val_precision: 0.9896 - val_recall: 0.9896\n",
      "Epoch 196/200\n",
      "\u001b[1m623/623\u001b[0m \u001b[32m━━━━━━━━━━━━━━━━━━━━\u001b[0m\u001b[37m\u001b[0m \u001b[1m11s\u001b[0m 18ms/step - accuracy: 0.9925 - loss: 0.0201 - precision: 0.9925 - recall: 0.9925 - val_accuracy: 0.9904 - val_loss: 0.0408 - val_precision: 0.9904 - val_recall: 0.9904\n",
      "Epoch 197/200\n",
      "\u001b[1m623/623\u001b[0m \u001b[32m━━━━━━━━━━━━━━━━━━━━\u001b[0m\u001b[37m\u001b[0m \u001b[1m11s\u001b[0m 18ms/step - accuracy: 0.9904 - loss: 0.0343 - precision: 0.9906 - recall: 0.9902 - val_accuracy: 0.9920 - val_loss: 0.0298 - val_precision: 0.9920 - val_recall: 0.9920\n",
      "Epoch 198/200\n",
      "\u001b[1m623/623\u001b[0m \u001b[32m━━━━━━━━━━━━━━━━━━━━\u001b[0m\u001b[37m\u001b[0m \u001b[1m11s\u001b[0m 17ms/step - accuracy: 0.9904 - loss: 0.0284 - precision: 0.9906 - recall: 0.9903 - val_accuracy: 0.9720 - val_loss: 0.1265 - val_precision: 0.9720 - val_recall: 0.9720\n",
      "Epoch 199/200\n",
      "\u001b[1m623/623\u001b[0m \u001b[32m━━━━━━━━━━━━━━━━━━━━\u001b[0m\u001b[37m\u001b[0m \u001b[1m11s\u001b[0m 18ms/step - accuracy: 0.9846 - loss: 0.0524 - precision: 0.9848 - recall: 0.9846 - val_accuracy: 0.9848 - val_loss: 0.0498 - val_precision: 0.9848 - val_recall: 0.9848\n",
      "Epoch 200/200\n",
      "\u001b[1m623/623\u001b[0m \u001b[32m━━━━━━━━━━━━━━━━━━━━\u001b[0m\u001b[37m\u001b[0m \u001b[1m12s\u001b[0m 19ms/step - accuracy: 0.9885 - loss: 0.0351 - precision: 0.9891 - recall: 0.9882 - val_accuracy: 0.9928 - val_loss: 0.0260 - val_precision: 0.9928 - val_recall: 0.9928\n"
     ]
    }
   ],
   "source": [
    "history = model.fit(\n",
    "    ds_train,\n",
    "    validation_data=ds_val,\n",
    "    epochs=200\n",
    ")"
   ]
  },
  {
   "cell_type": "code",
   "execution_count": 10,
   "id": "b53e4d44",
   "metadata": {},
   "outputs": [],
   "source": [
    "model.save_weights(model_save_path)"
   ]
  },
  {
   "cell_type": "code",
   "execution_count": 11,
   "id": "e3c307dc",
   "metadata": {},
   "outputs": [
    {
     "name": "stdout",
     "output_type": "stream",
     "text": [
      "\u001b[1m1/1\u001b[0m \u001b[32m━━━━━━━━━━━━━━━━━━━━\u001b[0m\u001b[37m\u001b[0m \u001b[1m0s\u001b[0m 73ms/step\n",
      "\u001b[1m1/1\u001b[0m \u001b[32m━━━━━━━━━━━━━━━━━━━━\u001b[0m\u001b[37m\u001b[0m \u001b[1m0s\u001b[0m 31ms/step\n",
      "\u001b[1m1/1\u001b[0m \u001b[32m━━━━━━━━━━━━━━━━━━━━\u001b[0m\u001b[37m\u001b[0m \u001b[1m0s\u001b[0m 31ms/step\n"
     ]
    },
    {
     "name": "stderr",
     "output_type": "stream",
     "text": [
      "2025-05-09 20:01:43.334505: E tensorflow/core/framework/node_def_util.cc:680] NodeDef mentions attribute use_unbounded_threadpool which is not in the op definition: Op<name=MapDataset; signature=input_dataset:variant, other_arguments: -> handle:variant; attr=f:func; attr=Targuments:list(type),min=0; attr=output_types:list(type),min=1; attr=output_shapes:list(shape),min=1; attr=use_inter_op_parallelism:bool,default=true; attr=preserve_cardinality:bool,default=false; attr=force_synchronous:bool,default=false; attr=metadata:string,default=\"\"> This may be expected if your graph generating binary is newer  than this binary. Unknown attributes will be ignored. NodeDef: {{node ParallelMapDatasetV2/_14}}\n"
     ]
    },
    {
     "name": "stdout",
     "output_type": "stream",
     "text": [
      "\u001b[1m1/1\u001b[0m \u001b[32m━━━━━━━━━━━━━━━━━━━━\u001b[0m\u001b[37m\u001b[0m \u001b[1m0s\u001b[0m 31ms/step\n",
      "\u001b[1m1/1\u001b[0m \u001b[32m━━━━━━━━━━━━━━━━━━━━\u001b[0m\u001b[37m\u001b[0m \u001b[1m0s\u001b[0m 30ms/step\n",
      "\u001b[1m1/1\u001b[0m \u001b[32m━━━━━━━━━━━━━━━━━━━━\u001b[0m\u001b[37m\u001b[0m \u001b[1m0s\u001b[0m 31ms/step\n",
      "\u001b[1m1/1\u001b[0m \u001b[32m━━━━━━━━━━━━━━━━━━━━\u001b[0m\u001b[37m\u001b[0m \u001b[1m0s\u001b[0m 30ms/step\n",
      "\u001b[1m1/1\u001b[0m \u001b[32m━━━━━━━━━━━━━━━━━━━━\u001b[0m\u001b[37m\u001b[0m \u001b[1m0s\u001b[0m 35ms/step\n",
      "\u001b[1m1/1\u001b[0m \u001b[32m━━━━━━━━━━━━━━━━━━━━\u001b[0m\u001b[37m\u001b[0m \u001b[1m0s\u001b[0m 32ms/step\n",
      "\u001b[1m1/1\u001b[0m \u001b[32m━━━━━━━━━━━━━━━━━━━━\u001b[0m\u001b[37m\u001b[0m \u001b[1m0s\u001b[0m 32ms/step\n",
      "\u001b[1m1/1\u001b[0m \u001b[32m━━━━━━━━━━━━━━━━━━━━\u001b[0m\u001b[37m\u001b[0m \u001b[1m0s\u001b[0m 31ms/step\n",
      "\u001b[1m1/1\u001b[0m \u001b[32m━━━━━━━━━━━━━━━━━━━━\u001b[0m\u001b[37m\u001b[0m \u001b[1m0s\u001b[0m 31ms/step\n",
      "\u001b[1m1/1\u001b[0m \u001b[32m━━━━━━━━━━━━━━━━━━━━\u001b[0m\u001b[37m\u001b[0m \u001b[1m0s\u001b[0m 31ms/step\n",
      "\u001b[1m1/1\u001b[0m \u001b[32m━━━━━━━━━━━━━━━━━━━━\u001b[0m\u001b[37m\u001b[0m \u001b[1m0s\u001b[0m 32ms/step\n",
      "\u001b[1m1/1\u001b[0m \u001b[32m━━━━━━━━━━━━━━━━━━━━\u001b[0m\u001b[37m\u001b[0m \u001b[1m0s\u001b[0m 33ms/step\n",
      "\u001b[1m1/1\u001b[0m \u001b[32m━━━━━━━━━━━━━━━━━━━━\u001b[0m\u001b[37m\u001b[0m \u001b[1m0s\u001b[0m 31ms/step\n",
      "\u001b[1m1/1\u001b[0m \u001b[32m━━━━━━━━━━━━━━━━━━━━\u001b[0m\u001b[37m\u001b[0m \u001b[1m0s\u001b[0m 32ms/step\n",
      "\u001b[1m1/1\u001b[0m \u001b[32m━━━━━━━━━━━━━━━━━━━━\u001b[0m\u001b[37m\u001b[0m \u001b[1m0s\u001b[0m 30ms/step\n",
      "\u001b[1m1/1\u001b[0m \u001b[32m━━━━━━━━━━━━━━━━━━━━\u001b[0m\u001b[37m\u001b[0m \u001b[1m0s\u001b[0m 30ms/step\n",
      "\u001b[1m1/1\u001b[0m \u001b[32m━━━━━━━━━━━━━━━━━━━━\u001b[0m\u001b[37m\u001b[0m \u001b[1m0s\u001b[0m 29ms/step\n",
      "\u001b[1m1/1\u001b[0m \u001b[32m━━━━━━━━━━━━━━━━━━━━\u001b[0m\u001b[37m\u001b[0m \u001b[1m0s\u001b[0m 30ms/step\n",
      "\u001b[1m1/1\u001b[0m \u001b[32m━━━━━━━━━━━━━━━━━━━━\u001b[0m\u001b[37m\u001b[0m \u001b[1m0s\u001b[0m 32ms/step\n",
      "\u001b[1m1/1\u001b[0m \u001b[32m━━━━━━━━━━━━━━━━━━━━\u001b[0m\u001b[37m\u001b[0m \u001b[1m0s\u001b[0m 32ms/step\n",
      "\u001b[1m1/1\u001b[0m \u001b[32m━━━━━━━━━━━━━━━━━━━━\u001b[0m\u001b[37m\u001b[0m \u001b[1m0s\u001b[0m 32ms/step\n",
      "\u001b[1m1/1\u001b[0m \u001b[32m━━━━━━━━━━━━━━━━━━━━\u001b[0m\u001b[37m\u001b[0m \u001b[1m0s\u001b[0m 32ms/step\n",
      "\u001b[1m1/1\u001b[0m \u001b[32m━━━━━━━━━━━━━━━━━━━━\u001b[0m\u001b[37m\u001b[0m \u001b[1m0s\u001b[0m 32ms/step\n",
      "\u001b[1m1/1\u001b[0m \u001b[32m━━━━━━━━━━━━━━━━━━━━\u001b[0m\u001b[37m\u001b[0m \u001b[1m0s\u001b[0m 31ms/step\n",
      "\u001b[1m1/1\u001b[0m \u001b[32m━━━━━━━━━━━━━━━━━━━━\u001b[0m\u001b[37m\u001b[0m \u001b[1m0s\u001b[0m 30ms/step\n",
      "\u001b[1m1/1\u001b[0m \u001b[32m━━━━━━━━━━━━━━━━━━━━\u001b[0m\u001b[37m\u001b[0m \u001b[1m0s\u001b[0m 32ms/step\n",
      "\u001b[1m1/1\u001b[0m \u001b[32m━━━━━━━━━━━━━━━━━━━━\u001b[0m\u001b[37m\u001b[0m \u001b[1m0s\u001b[0m 34ms/step\n",
      "\u001b[1m1/1\u001b[0m \u001b[32m━━━━━━━━━━━━━━━━━━━━\u001b[0m\u001b[37m\u001b[0m \u001b[1m0s\u001b[0m 35ms/step\n",
      "\u001b[1m1/1\u001b[0m \u001b[32m━━━━━━━━━━━━━━━━━━━━\u001b[0m\u001b[37m\u001b[0m \u001b[1m0s\u001b[0m 34ms/step\n",
      "\u001b[1m1/1\u001b[0m \u001b[32m━━━━━━━━━━━━━━━━━━━━\u001b[0m\u001b[37m\u001b[0m \u001b[1m0s\u001b[0m 34ms/step\n",
      "\u001b[1m1/1\u001b[0m \u001b[32m━━━━━━━━━━━━━━━━━━━━\u001b[0m\u001b[37m\u001b[0m \u001b[1m0s\u001b[0m 36ms/step\n",
      "\u001b[1m1/1\u001b[0m \u001b[32m━━━━━━━━━━━━━━━━━━━━\u001b[0m\u001b[37m\u001b[0m \u001b[1m0s\u001b[0m 35ms/step\n",
      "\u001b[1m1/1\u001b[0m \u001b[32m━━━━━━━━━━━━━━━━━━━━\u001b[0m\u001b[37m\u001b[0m \u001b[1m0s\u001b[0m 35ms/step\n",
      "\u001b[1m1/1\u001b[0m \u001b[32m━━━━━━━━━━━━━━━━━━━━\u001b[0m\u001b[37m\u001b[0m \u001b[1m0s\u001b[0m 35ms/step\n",
      "\u001b[1m1/1\u001b[0m \u001b[32m━━━━━━━━━━━━━━━━━━━━\u001b[0m\u001b[37m\u001b[0m \u001b[1m0s\u001b[0m 35ms/step\n",
      "\u001b[1m1/1\u001b[0m \u001b[32m━━━━━━━━━━━━━━━━━━━━\u001b[0m\u001b[37m\u001b[0m \u001b[1m0s\u001b[0m 35ms/step\n",
      "\u001b[1m1/1\u001b[0m \u001b[32m━━━━━━━━━━━━━━━━━━━━\u001b[0m\u001b[37m\u001b[0m \u001b[1m0s\u001b[0m 35ms/step\n",
      "\u001b[1m1/1\u001b[0m \u001b[32m━━━━━━━━━━━━━━━━━━━━\u001b[0m\u001b[37m\u001b[0m \u001b[1m0s\u001b[0m 35ms/step\n",
      "\u001b[1m1/1\u001b[0m \u001b[32m━━━━━━━━━━━━━━━━━━━━\u001b[0m\u001b[37m\u001b[0m \u001b[1m0s\u001b[0m 35ms/step\n",
      "\u001b[1m1/1\u001b[0m \u001b[32m━━━━━━━━━━━━━━━━━━━━\u001b[0m\u001b[37m\u001b[0m \u001b[1m0s\u001b[0m 35ms/step\n",
      "\u001b[1m1/1\u001b[0m \u001b[32m━━━━━━━━━━━━━━━━━━━━\u001b[0m\u001b[37m\u001b[0m \u001b[1m0s\u001b[0m 35ms/step\n",
      "\u001b[1m1/1\u001b[0m \u001b[32m━━━━━━━━━━━━━━━━━━━━\u001b[0m\u001b[37m\u001b[0m \u001b[1m0s\u001b[0m 35ms/step\n",
      "\u001b[1m1/1\u001b[0m \u001b[32m━━━━━━━━━━━━━━━━━━━━\u001b[0m\u001b[37m\u001b[0m \u001b[1m0s\u001b[0m 39ms/step\n",
      "\u001b[1m1/1\u001b[0m \u001b[32m━━━━━━━━━━━━━━━━━━━━\u001b[0m\u001b[37m\u001b[0m \u001b[1m0s\u001b[0m 39ms/step\n",
      "\u001b[1m1/1\u001b[0m \u001b[32m━━━━━━━━━━━━━━━━━━━━\u001b[0m\u001b[37m\u001b[0m \u001b[1m0s\u001b[0m 38ms/step\n",
      "\u001b[1m1/1\u001b[0m \u001b[32m━━━━━━━━━━━━━━━━━━━━\u001b[0m\u001b[37m\u001b[0m \u001b[1m0s\u001b[0m 36ms/step\n",
      "\u001b[1m1/1\u001b[0m \u001b[32m━━━━━━━━━━━━━━━━━━━━\u001b[0m\u001b[37m\u001b[0m \u001b[1m0s\u001b[0m 37ms/step\n",
      "\u001b[1m1/1\u001b[0m \u001b[32m━━━━━━━━━━━━━━━━━━━━\u001b[0m\u001b[37m\u001b[0m \u001b[1m0s\u001b[0m 36ms/step\n",
      "\u001b[1m1/1\u001b[0m \u001b[32m━━━━━━━━━━━━━━━━━━━━\u001b[0m\u001b[37m\u001b[0m \u001b[1m0s\u001b[0m 35ms/step\n",
      "\u001b[1m1/1\u001b[0m \u001b[32m━━━━━━━━━━━━━━━━━━━━\u001b[0m\u001b[37m\u001b[0m \u001b[1m0s\u001b[0m 34ms/step\n",
      "\u001b[1m1/1\u001b[0m \u001b[32m━━━━━━━━━━━━━━━━━━━━\u001b[0m\u001b[37m\u001b[0m \u001b[1m0s\u001b[0m 34ms/step\n",
      "\u001b[1m1/1\u001b[0m \u001b[32m━━━━━━━━━━━━━━━━━━━━\u001b[0m\u001b[37m\u001b[0m \u001b[1m0s\u001b[0m 35ms/step\n",
      "\u001b[1m1/1\u001b[0m \u001b[32m━━━━━━━━━━━━━━━━━━━━\u001b[0m\u001b[37m\u001b[0m \u001b[1m0s\u001b[0m 34ms/step\n",
      "\u001b[1m1/1\u001b[0m \u001b[32m━━━━━━━━━━━━━━━━━━━━\u001b[0m\u001b[37m\u001b[0m \u001b[1m0s\u001b[0m 35ms/step\n",
      "\u001b[1m1/1\u001b[0m \u001b[32m━━━━━━━━━━━━━━━━━━━━\u001b[0m\u001b[37m\u001b[0m \u001b[1m0s\u001b[0m 36ms/step\n",
      "\u001b[1m1/1\u001b[0m \u001b[32m━━━━━━━━━━━━━━━━━━━━\u001b[0m\u001b[37m\u001b[0m \u001b[1m0s\u001b[0m 37ms/step\n",
      "\u001b[1m1/1\u001b[0m \u001b[32m━━━━━━━━━━━━━━━━━━━━\u001b[0m\u001b[37m\u001b[0m \u001b[1m0s\u001b[0m 35ms/step\n",
      "\u001b[1m1/1\u001b[0m \u001b[32m━━━━━━━━━━━━━━━━━━━━\u001b[0m\u001b[37m\u001b[0m \u001b[1m0s\u001b[0m 37ms/step\n",
      "\u001b[1m1/1\u001b[0m \u001b[32m━━━━━━━━━━━━━━━━━━━━\u001b[0m\u001b[37m\u001b[0m \u001b[1m0s\u001b[0m 36ms/step\n",
      "\u001b[1m1/1\u001b[0m \u001b[32m━━━━━━━━━━━━━━━━━━━━\u001b[0m\u001b[37m\u001b[0m \u001b[1m0s\u001b[0m 36ms/step\n",
      "\u001b[1m1/1\u001b[0m \u001b[32m━━━━━━━━━━━━━━━━━━━━\u001b[0m\u001b[37m\u001b[0m \u001b[1m0s\u001b[0m 36ms/step\n",
      "\u001b[1m1/1\u001b[0m \u001b[32m━━━━━━━━━━━━━━━━━━━━\u001b[0m\u001b[37m\u001b[0m \u001b[1m0s\u001b[0m 41ms/step\n",
      "\u001b[1m1/1\u001b[0m \u001b[32m━━━━━━━━━━━━━━━━━━━━\u001b[0m\u001b[37m\u001b[0m \u001b[1m0s\u001b[0m 34ms/step\n",
      "\u001b[1m1/1\u001b[0m \u001b[32m━━━━━━━━━━━━━━━━━━━━\u001b[0m\u001b[37m\u001b[0m \u001b[1m0s\u001b[0m 36ms/step\n",
      "\u001b[1m1/1\u001b[0m \u001b[32m━━━━━━━━━━━━━━━━━━━━\u001b[0m\u001b[37m\u001b[0m \u001b[1m0s\u001b[0m 34ms/step\n",
      "\u001b[1m1/1\u001b[0m \u001b[32m━━━━━━━━━━━━━━━━━━━━\u001b[0m\u001b[37m\u001b[0m \u001b[1m0s\u001b[0m 33ms/step\n",
      "\u001b[1m1/1\u001b[0m \u001b[32m━━━━━━━━━━━━━━━━━━━━\u001b[0m\u001b[37m\u001b[0m \u001b[1m0s\u001b[0m 37ms/step\n",
      "\u001b[1m1/1\u001b[0m \u001b[32m━━━━━━━━━━━━━━━━━━━━\u001b[0m\u001b[37m\u001b[0m \u001b[1m0s\u001b[0m 38ms/step\n",
      "\u001b[1m1/1\u001b[0m \u001b[32m━━━━━━━━━━━━━━━━━━━━\u001b[0m\u001b[37m\u001b[0m \u001b[1m0s\u001b[0m 37ms/step\n",
      "\u001b[1m1/1\u001b[0m \u001b[32m━━━━━━━━━━━━━━━━━━━━\u001b[0m\u001b[37m\u001b[0m \u001b[1m0s\u001b[0m 37ms/step\n",
      "\u001b[1m1/1\u001b[0m \u001b[32m━━━━━━━━━━━━━━━━━━━━\u001b[0m\u001b[37m\u001b[0m \u001b[1m0s\u001b[0m 36ms/step\n",
      "\u001b[1m1/1\u001b[0m \u001b[32m━━━━━━━━━━━━━━━━━━━━\u001b[0m\u001b[37m\u001b[0m \u001b[1m0s\u001b[0m 36ms/step\n",
      "\u001b[1m1/1\u001b[0m \u001b[32m━━━━━━━━━━━━━━━━━━━━\u001b[0m\u001b[37m\u001b[0m \u001b[1m0s\u001b[0m 38ms/step\n",
      "\u001b[1m1/1\u001b[0m \u001b[32m━━━━━━━━━━━━━━━━━━━━\u001b[0m\u001b[37m\u001b[0m \u001b[1m0s\u001b[0m 35ms/step\n",
      "\u001b[1m1/1\u001b[0m \u001b[32m━━━━━━━━━━━━━━━━━━━━\u001b[0m\u001b[37m\u001b[0m \u001b[1m0s\u001b[0m 72ms/step\n",
      "              precision    recall  f1-score   support\n",
      "\n",
      "        Cyst       0.99      1.00      1.00       396\n",
      "      Normal       0.99      1.00      0.99       479\n",
      "       Stone       0.99      0.98      0.99       122\n",
      "       Tumor       0.99      0.98      0.98       244\n",
      "\n",
      "    accuracy                           0.99      1241\n",
      "   macro avg       0.99      0.99      0.99      1241\n",
      "weighted avg       0.99      0.99      0.99      1241\n",
      "\n"
     ]
    },
    {
     "name": "stderr",
     "output_type": "stream",
     "text": [
      "2025-05-09 20:01:47.921777: I tensorflow/core/framework/local_rendezvous.cc:407] Local rendezvous is aborting with status: OUT_OF_RANGE: End of sequence\n"
     ]
    }
   ],
   "source": [
    "from sklearn.metrics import classification_report\n",
    "\n",
    "y_true = []\n",
    "y_pred = []\n",
    "\n",
    "for images, labels in ds_test:\n",
    "    preds = model.predict(images)\n",
    "    y_true.extend(tf.argmax(labels, axis=1).numpy())\n",
    "    y_pred.extend(tf.argmax(preds, axis=1).numpy())\n",
    "\n",
    "print(classification_report(y_true, y_pred, target_names=ds_test.class_names))\n"
   ]
  },
  {
   "cell_type": "code",
   "execution_count": 12,
   "id": "3dbfc8b4",
   "metadata": {},
   "outputs": [
    {
     "data": {
      "text/plain": [
       "<Axes: >"
      ]
     },
     "execution_count": 12,
     "metadata": {},
     "output_type": "execute_result"
    },
    {
     "data": {
      "image/png": "[encoded data removed]",
      "text/plain": [
       "<Figure size 640x480 with 1 Axes>"
      ]
     },
     "metadata": {},
     "output_type": "display_data"
    }
   ],
   "source": [
    "history_frame = pd.DataFrame(history.history)\n",
    "history_frame.loc[:, ['loss', 'val_loss']].plot()"
   ]
  },
  {
   "cell_type": "code",
   "execution_count": 13,
   "id": "dcf8643f",
   "metadata": {},
   "outputs": [
    {
     "name": "stdout",
     "output_type": "stream",
     "text": [
      "Train class %:\n",
      "{'Cyst': np.float64(31.91), 'Normal': np.float64(38.6), 'Stone': np.float64(9.83), 'Tumor': np.float64(19.66)}\n"
     ]
    }
   ],
   "source": [
    "print(\"Train class %:\")\n",
    "print(get_class_distribution(ds_test, ds_test.class_names))"
   ]
  },
  {
   "cell_type": "code",
   "execution_count": 14,
   "id": "c443b3c6",
   "metadata": {},
   "outputs": [
    {
     "name": "stdout",
     "output_type": "stream",
     "text": [
      "\u001b[1m78/78\u001b[0m \u001b[32m━━━━━━━━━━━━━━━━━━━━\u001b[0m\u001b[37m\u001b[0m \u001b[1m1s\u001b[0m 8ms/step\n"
     ]
    }
   ],
   "source": [
    "preds = model.predict(ds_test)"
   ]
  },
  {
   "cell_type": "code",
   "execution_count": 15,
   "id": "95a04674",
   "metadata": {},
   "outputs": [
    {
     "data": {
      "text/plain": [
       "array([[2.61064716e-12, 1.18213012e-27, 2.15154526e-29, 1.00000000e+00],\n",
       "       [6.26420031e-13, 3.31416544e-07, 2.14736198e-11, 9.99999642e-01],\n",
       "       [2.53966864e-22, 9.99999762e-01, 2.63122416e-07, 1.09185985e-23],\n",
       "       ...,\n",
       "       [1.22446088e-15, 9.95399877e-02, 9.05718903e-12, 9.00460005e-01],\n",
       "       [6.33181943e-17, 5.33360445e-21, 1.22152022e-30, 1.00000000e+00],\n",
       "       [9.47581653e-14, 2.96974787e-03, 9.97030258e-01, 1.65600545e-28]],\n",
       "      dtype=float32)"
      ]
     },
     "execution_count": 15,
     "metadata": {},
     "output_type": "execute_result"
    }
   ],
   "source": [
    "preds"
   ]
  },
  {
   "cell_type": "code",
   "execution_count": 16,
   "id": "be8e0e7a",
   "metadata": {},
   "outputs": [],
   "source": [
    "y_pred = np.argmax(preds, axis=1)"
   ]
  },
  {
   "cell_type": "code",
   "execution_count": 17,
   "id": "943efae1",
   "metadata": {},
   "outputs": [
    {
     "name": "stderr",
     "output_type": "stream",
     "text": [
      "2025-05-09 20:01:49.161636: I tensorflow/core/framework/local_rendezvous.cc:407] Local rendezvous is aborting with status: OUT_OF_RANGE: End of sequence\n"
     ]
    }
   ],
   "source": [
    "y_true = []\n",
    "for _, labels in ds_test:\n",
    "    y_true.extend(tf.argmax(labels, axis=1).numpy())\n"
   ]
  },
  {
   "cell_type": "code",
   "execution_count": 18,
   "id": "acbc6908",
   "metadata": {},
   "outputs": [
    {
     "name": "stdout",
     "output_type": "stream",
     "text": [
      "              precision    recall  f1-score   support\n",
      "\n",
      "        Cyst       0.99      1.00      1.00       396\n",
      "      Normal       0.99      1.00      0.99       479\n",
      "       Stone       0.99      0.98      0.99       122\n",
      "       Tumor       0.99      0.98      0.98       244\n",
      "\n",
      "    accuracy                           0.99      1241\n",
      "   macro avg       0.99      0.99      0.99      1241\n",
      "weighted avg       0.99      0.99      0.99      1241\n",
      "\n"
     ]
    }
   ],
   "source": [
    "from sklearn.metrics import classification_report\n",
    "\n",
    "print(classification_report(y_true, y_pred, target_names=ds_test.class_names))\n"
   ]
  },
  {
   "cell_type": "code",
   "execution_count": 19,
   "id": "c9a2ee72",
   "metadata": {},
   "outputs": [
    {
     "name": "stdout",
     "output_type": "stream",
     "text": [
      "Predicted: Tumor\n",
      "Confidence: 1.0000\n",
      "All probs: [2.6106472e-12 1.1821301e-27 2.1515453e-29 1.0000000e+00]\n",
      "---\n",
      "Predicted: Tumor\n",
      "Confidence: 1.0000\n",
      "All probs: [6.2642003e-13 3.3141654e-07 2.1473620e-11 9.9999964e-01]\n",
      "---\n",
      "Predicted: Normal\n",
      "Confidence: 1.0000\n",
      "All probs: [2.53966864e-22 9.99999762e-01 2.63122416e-07 1.09185985e-23]\n",
      "---\n",
      "Predicted: Normal\n",
      "Confidence: 1.0000\n",
      "All probs: [2.4408833e-10 9.9998343e-01 1.2709403e-06 1.5254476e-05]\n",
      "---\n",
      "Predicted: Cyst\n",
      "Confidence: 1.0000\n",
      "All probs: [9.9999976e-01 1.3597419e-18 1.9666818e-07 6.3218567e-15]\n",
      "---\n"
     ]
    }
   ],
   "source": [
    "for i in range(5):\n",
    "    print(f\"Predicted: {ds_test.class_names[y_pred[i]]}\")\n",
    "    print(f\"Confidence: {np.max(preds[i]):.4f}\")\n",
    "    print(f\"All probs: {preds[i]}\")\n",
    "    print(\"---\")\n"
   ]
  },
  {
   "cell_type": "code",
   "execution_count": 20,
   "id": "c35ba6e3",
   "metadata": {},
   "outputs": [
    {
     "name": "stdout",
     "output_type": "stream",
     "text": [
      "\u001b[1m78/78\u001b[0m \u001b[32m━━━━━━━━━━━━━━━━━━━━\u001b[0m\u001b[37m\u001b[0m \u001b[1m0s\u001b[0m 5ms/step\n"
     ]
    },
    {
     "data": {
      "image/png": "[encoded data removed]",
      "text/plain": [
       "<Figure size 800x600 with 2 Axes>"
      ]
     },
     "metadata": {},
     "output_type": "display_data"
    }
   ],
   "source": [
    "from sklearn.metrics import confusion_matrix, ConfusionMatrixDisplay\n",
    "import matplotlib.pyplot as plt\n",
    "\n",
    "# First get predictions and true labels (you’ve likely already done this)\n",
    "y_pred = np.argmax(model.predict(ds_test), axis=1)\n",
    "y_true = []\n",
    "for _, labels in ds_test:\n",
    "    y_true.extend(tf.argmax(labels, axis=1).numpy())\n",
    "\n",
    "# Build the confusion matrix\n",
    "cm = confusion_matrix(y_true, y_pred)\n",
    "disp = ConfusionMatrixDisplay(confusion_matrix=cm, display_labels=ds_test.class_names)\n",
    "\n",
    "# Plot it\n",
    "fig, ax = plt.subplots(figsize=(8, 6))\n",
    "disp.plot(ax=ax, cmap=\"Blues\", xticks_rotation=45)\n",
    "plt.title(\"Confusion Matrix on Test Set\")\n",
    "plt.show()\n"
   ]
  },
  {
   "cell_type": "code",
   "execution_count": 21,
   "id": "406dbb7c",
   "metadata": {},
   "outputs": [],
   "source": [
    "\n",
    "# Convert Keras history to DataFrame\n",
    "hist_df = pd.DataFrame(history.history)\n",
    "\n",
    "# Save to CSV\n",
    "hist_df.to_csv(f\"logs/{model_id}_history.csv\", index=False)"
   ]
  },
  {
   "cell_type": "code",
   "execution_count": 22,
   "id": "89d69c6c",
   "metadata": {},
   "outputs": [
    {
     "data": {
      "text/html": [
       "<pre style=\"white-space:pre;overflow-x:auto;line-height:normal;font-family:Menlo,'DejaVu Sans Mono',consolas,'Courier New',monospace\"></pre>\n"
      ],
      "text/plain": []
     },
     "metadata": {},
     "output_type": "display_data"
    }
   ],
   "source": [
    "report = classification_report(y_true, y_pred, target_names=ds_test.class_names, output_dict=True)\n",
    "\n",
    "with open(f\"logs/{model_id}_classification_report.json\", \"w\") as f:\n",
    "    json.dump(report, f, indent=4)\n",
    "\n",
    "\n",
    "with open(f\"logs/{model_id}_summary.txt\", \"w\") as f:\n",
    "    model.summary(print_fn=lambda x: f.write(x + '\\n'))\n"
   ]
  },
  {
   "cell_type": "code",
   "execution_count": null,
   "id": "ce4e9615",
   "metadata": {},
   "outputs": [],
   "source": []
  }
 ],
 "metadata": {
  "kernelspec": {
   "display_name": "tf-gpu",
   "language": "python",
   "name": "python3"
  },
  "language_info": {
   "codemirror_mode": {
    "name": "ipython",
    "version": 3
   },
   "file_extension": ".py",
   "mimetype": "text/x-python",
   "name": "python",
   "nbconvert_exporter": "python",
   "pygments_lexer": "ipython3",
   "version": "3.10.16"
  }
 },
 "nbformat": 4,
 "nbformat_minor": 5
}
